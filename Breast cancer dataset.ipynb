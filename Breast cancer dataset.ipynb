{
 "cells": [
  {
   "cell_type": "code",
   "execution_count": 1,
   "id": "ebbe5cd0",
   "metadata": {},
   "outputs": [],
   "source": [
    "import pandas as pd\n",
    "import numpy as np\n",
    "import seaborn as sns"
   ]
  },
  {
   "cell_type": "code",
   "execution_count": 2,
   "id": "f12c3b5b",
   "metadata": {},
   "outputs": [
    {
     "data": {
      "text/html": [
       "<div>\n",
       "<style scoped>\n",
       "    .dataframe tbody tr th:only-of-type {\n",
       "        vertical-align: middle;\n",
       "    }\n",
       "\n",
       "    .dataframe tbody tr th {\n",
       "        vertical-align: top;\n",
       "    }\n",
       "\n",
       "    .dataframe thead th {\n",
       "        text-align: right;\n",
       "    }\n",
       "</style>\n",
       "<table border=\"1\" class=\"dataframe\">\n",
       "  <thead>\n",
       "    <tr style=\"text-align: right;\">\n",
       "      <th></th>\n",
       "      <th>age</th>\n",
       "      <th>menopause</th>\n",
       "      <th>tumer-size</th>\n",
       "      <th>inv-nodes</th>\n",
       "      <th>node-caps</th>\n",
       "      <th>deg-malig</th>\n",
       "      <th>breast</th>\n",
       "      <th>breast-quad</th>\n",
       "      <th>irradiate</th>\n",
       "      <th>class</th>\n",
       "    </tr>\n",
       "  </thead>\n",
       "  <tbody>\n",
       "    <tr>\n",
       "      <th>0</th>\n",
       "      <td>40-49'</td>\n",
       "      <td>premeno'</td>\n",
       "      <td>15-19'</td>\n",
       "      <td>0-2'</td>\n",
       "      <td>yes'</td>\n",
       "      <td>3'</td>\n",
       "      <td>right'</td>\n",
       "      <td>left_up'</td>\n",
       "      <td>no'</td>\n",
       "      <td>recurrence-events'</td>\n",
       "    </tr>\n",
       "    <tr>\n",
       "      <th>1</th>\n",
       "      <td>50-59'</td>\n",
       "      <td>ge40'</td>\n",
       "      <td>15-19'</td>\n",
       "      <td>0-2'</td>\n",
       "      <td>no'</td>\n",
       "      <td>1'</td>\n",
       "      <td>right'</td>\n",
       "      <td>central'</td>\n",
       "      <td>no'</td>\n",
       "      <td>no-recurrence-events'</td>\n",
       "    </tr>\n",
       "    <tr>\n",
       "      <th>2</th>\n",
       "      <td>50-59'</td>\n",
       "      <td>ge40'</td>\n",
       "      <td>35-39'</td>\n",
       "      <td>0-2'</td>\n",
       "      <td>no'</td>\n",
       "      <td>2'</td>\n",
       "      <td>left'</td>\n",
       "      <td>left_low'</td>\n",
       "      <td>no'</td>\n",
       "      <td>recurrence-events'</td>\n",
       "    </tr>\n",
       "    <tr>\n",
       "      <th>3</th>\n",
       "      <td>40-49'</td>\n",
       "      <td>premeno'</td>\n",
       "      <td>35-39'</td>\n",
       "      <td>0-2'</td>\n",
       "      <td>yes'</td>\n",
       "      <td>3'</td>\n",
       "      <td>right'</td>\n",
       "      <td>left_low'</td>\n",
       "      <td>yes'</td>\n",
       "      <td>no-recurrence-events'</td>\n",
       "    </tr>\n",
       "    <tr>\n",
       "      <th>4</th>\n",
       "      <td>40-49'</td>\n",
       "      <td>premeno'</td>\n",
       "      <td>30-34'</td>\n",
       "      <td>3-5'</td>\n",
       "      <td>yes'</td>\n",
       "      <td>2'</td>\n",
       "      <td>left'</td>\n",
       "      <td>right_up'</td>\n",
       "      <td>no'</td>\n",
       "      <td>recurrence-events'</td>\n",
       "    </tr>\n",
       "  </tbody>\n",
       "</table>\n",
       "</div>"
      ],
      "text/plain": [
       "      age menopause tumer-size inv-nodes node-caps deg-malig  breast  \\\n",
       "0  40-49'  premeno'     15-19'      0-2'      yes'        3'  right'   \n",
       "1  50-59'     ge40'     15-19'      0-2'       no'        1'  right'   \n",
       "2  50-59'     ge40'     35-39'      0-2'       no'        2'   left'   \n",
       "3  40-49'  premeno'     35-39'      0-2'      yes'        3'  right'   \n",
       "4  40-49'  premeno'     30-34'      3-5'      yes'        2'   left'   \n",
       "\n",
       "  breast-quad irradiate                  class  \n",
       "0    left_up'       no'     recurrence-events'  \n",
       "1    central'       no'  no-recurrence-events'  \n",
       "2   left_low'       no'     recurrence-events'  \n",
       "3   left_low'      yes'  no-recurrence-events'  \n",
       "4   right_up'       no'     recurrence-events'  "
      ]
     },
     "execution_count": 2,
     "metadata": {},
     "output_type": "execute_result"
    }
   ],
   "source": [
    "df=pd.read_csv(r'D:\\Meghana H P 123\\Python\\archive\\breast-cancer-data.csv')\n",
    "df.head()"
   ]
  },
  {
   "cell_type": "code",
   "execution_count": 3,
   "id": "853913db",
   "metadata": {},
   "outputs": [
    {
     "data": {
      "text/plain": [
       "(286, 10)"
      ]
     },
     "execution_count": 3,
     "metadata": {},
     "output_type": "execute_result"
    }
   ],
   "source": [
    "df.shape"
   ]
  },
  {
   "cell_type": "code",
   "execution_count": 4,
   "id": "c7ddca95",
   "metadata": {},
   "outputs": [
    {
     "data": {
      "text/html": [
       "<div>\n",
       "<style scoped>\n",
       "    .dataframe tbody tr th:only-of-type {\n",
       "        vertical-align: middle;\n",
       "    }\n",
       "\n",
       "    .dataframe tbody tr th {\n",
       "        vertical-align: top;\n",
       "    }\n",
       "\n",
       "    .dataframe thead th {\n",
       "        text-align: right;\n",
       "    }\n",
       "</style>\n",
       "<table border=\"1\" class=\"dataframe\">\n",
       "  <thead>\n",
       "    <tr style=\"text-align: right;\">\n",
       "      <th></th>\n",
       "      <th>age</th>\n",
       "      <th>menopause</th>\n",
       "      <th>tumer-size</th>\n",
       "      <th>inv-nodes</th>\n",
       "      <th>node-caps</th>\n",
       "      <th>deg-malig</th>\n",
       "      <th>breast</th>\n",
       "      <th>breast-quad</th>\n",
       "      <th>irradiate</th>\n",
       "      <th>class</th>\n",
       "    </tr>\n",
       "  </thead>\n",
       "  <tbody>\n",
       "    <tr>\n",
       "      <th>count</th>\n",
       "      <td>286</td>\n",
       "      <td>286</td>\n",
       "      <td>286</td>\n",
       "      <td>286</td>\n",
       "      <td>278</td>\n",
       "      <td>286</td>\n",
       "      <td>286</td>\n",
       "      <td>285</td>\n",
       "      <td>286</td>\n",
       "      <td>286</td>\n",
       "    </tr>\n",
       "    <tr>\n",
       "      <th>unique</th>\n",
       "      <td>6</td>\n",
       "      <td>3</td>\n",
       "      <td>11</td>\n",
       "      <td>7</td>\n",
       "      <td>2</td>\n",
       "      <td>3</td>\n",
       "      <td>2</td>\n",
       "      <td>5</td>\n",
       "      <td>2</td>\n",
       "      <td>2</td>\n",
       "    </tr>\n",
       "    <tr>\n",
       "      <th>top</th>\n",
       "      <td>50-59'</td>\n",
       "      <td>premeno'</td>\n",
       "      <td>30-34'</td>\n",
       "      <td>0-2'</td>\n",
       "      <td>no'</td>\n",
       "      <td>2'</td>\n",
       "      <td>left'</td>\n",
       "      <td>left_low'</td>\n",
       "      <td>no'</td>\n",
       "      <td>no-recurrence-events'</td>\n",
       "    </tr>\n",
       "    <tr>\n",
       "      <th>freq</th>\n",
       "      <td>96</td>\n",
       "      <td>150</td>\n",
       "      <td>60</td>\n",
       "      <td>213</td>\n",
       "      <td>222</td>\n",
       "      <td>130</td>\n",
       "      <td>152</td>\n",
       "      <td>110</td>\n",
       "      <td>218</td>\n",
       "      <td>201</td>\n",
       "    </tr>\n",
       "  </tbody>\n",
       "</table>\n",
       "</div>"
      ],
      "text/plain": [
       "           age menopause tumer-size inv-nodes node-caps deg-malig breast  \\\n",
       "count      286       286        286       286       278       286    286   \n",
       "unique       6         3         11         7         2         3      2   \n",
       "top     50-59'  premeno'     30-34'      0-2'       no'        2'  left'   \n",
       "freq        96       150         60       213       222       130    152   \n",
       "\n",
       "       breast-quad irradiate                  class  \n",
       "count          285       286                    286  \n",
       "unique           5         2                      2  \n",
       "top      left_low'       no'  no-recurrence-events'  \n",
       "freq           110       218                    201  "
      ]
     },
     "execution_count": 4,
     "metadata": {},
     "output_type": "execute_result"
    }
   ],
   "source": [
    "df.describe(include='all')"
   ]
  },
  {
   "cell_type": "code",
   "execution_count": 5,
   "id": "eed5d372",
   "metadata": {},
   "outputs": [
    {
     "name": "stdout",
     "output_type": "stream",
     "text": [
      "<class 'pandas.core.frame.DataFrame'>\n",
      "RangeIndex: 286 entries, 0 to 285\n",
      "Data columns (total 10 columns):\n",
      " #   Column       Non-Null Count  Dtype \n",
      "---  ------       --------------  ----- \n",
      " 0   age          286 non-null    object\n",
      " 1   menopause    286 non-null    object\n",
      " 2   tumer-size   286 non-null    object\n",
      " 3   inv-nodes    286 non-null    object\n",
      " 4   node-caps    278 non-null    object\n",
      " 5   deg-malig    286 non-null    object\n",
      " 6   breast       286 non-null    object\n",
      " 7   breast-quad  285 non-null    object\n",
      " 8   irradiate    286 non-null    object\n",
      " 9   class        286 non-null    object\n",
      "dtypes: object(10)\n",
      "memory usage: 22.5+ KB\n"
     ]
    }
   ],
   "source": [
    "df.info()"
   ]
  },
  {
   "cell_type": "markdown",
   "id": "1cb29145",
   "metadata": {},
   "source": [
    "### TO CHECK FOR DUPLICATE RECORDS AND DROPPING THE SAME"
   ]
  },
  {
   "cell_type": "code",
   "execution_count": 6,
   "id": "901e3aac",
   "metadata": {
    "scrolled": true
   },
   "outputs": [
    {
     "data": {
      "text/html": [
       "<div>\n",
       "<style scoped>\n",
       "    .dataframe tbody tr th:only-of-type {\n",
       "        vertical-align: middle;\n",
       "    }\n",
       "\n",
       "    .dataframe tbody tr th {\n",
       "        vertical-align: top;\n",
       "    }\n",
       "\n",
       "    .dataframe thead th {\n",
       "        text-align: right;\n",
       "    }\n",
       "</style>\n",
       "<table border=\"1\" class=\"dataframe\">\n",
       "  <thead>\n",
       "    <tr style=\"text-align: right;\">\n",
       "      <th></th>\n",
       "      <th>age</th>\n",
       "      <th>menopause</th>\n",
       "      <th>tumer-size</th>\n",
       "      <th>inv-nodes</th>\n",
       "      <th>node-caps</th>\n",
       "      <th>deg-malig</th>\n",
       "      <th>breast</th>\n",
       "      <th>breast-quad</th>\n",
       "      <th>irradiate</th>\n",
       "      <th>class</th>\n",
       "    </tr>\n",
       "  </thead>\n",
       "  <tbody>\n",
       "    <tr>\n",
       "      <th>17</th>\n",
       "      <td>60-69'</td>\n",
       "      <td>ge40'</td>\n",
       "      <td>15-19'</td>\n",
       "      <td>0-2'</td>\n",
       "      <td>no'</td>\n",
       "      <td>2'</td>\n",
       "      <td>right'</td>\n",
       "      <td>left_up'</td>\n",
       "      <td>no'</td>\n",
       "      <td>no-recurrence-events'</td>\n",
       "    </tr>\n",
       "    <tr>\n",
       "      <th>27</th>\n",
       "      <td>40-49'</td>\n",
       "      <td>premeno'</td>\n",
       "      <td>10-14'</td>\n",
       "      <td>0-2'</td>\n",
       "      <td>no'</td>\n",
       "      <td>1'</td>\n",
       "      <td>right'</td>\n",
       "      <td>left_up'</td>\n",
       "      <td>no'</td>\n",
       "      <td>no-recurrence-events'</td>\n",
       "    </tr>\n",
       "    <tr>\n",
       "      <th>44</th>\n",
       "      <td>30-39'</td>\n",
       "      <td>premeno'</td>\n",
       "      <td>15-19'</td>\n",
       "      <td>0-2'</td>\n",
       "      <td>no'</td>\n",
       "      <td>1'</td>\n",
       "      <td>left'</td>\n",
       "      <td>left_low'</td>\n",
       "      <td>no'</td>\n",
       "      <td>no-recurrence-events'</td>\n",
       "    </tr>\n",
       "    <tr>\n",
       "      <th>65</th>\n",
       "      <td>50-59'</td>\n",
       "      <td>ge40'</td>\n",
       "      <td>15-19'</td>\n",
       "      <td>0-2'</td>\n",
       "      <td>no'</td>\n",
       "      <td>1'</td>\n",
       "      <td>right'</td>\n",
       "      <td>central'</td>\n",
       "      <td>no'</td>\n",
       "      <td>no-recurrence-events'</td>\n",
       "    </tr>\n",
       "    <tr>\n",
       "      <th>117</th>\n",
       "      <td>60-69'</td>\n",
       "      <td>ge40'</td>\n",
       "      <td>10-14'</td>\n",
       "      <td>0-2'</td>\n",
       "      <td>no'</td>\n",
       "      <td>1'</td>\n",
       "      <td>left'</td>\n",
       "      <td>left_up'</td>\n",
       "      <td>no'</td>\n",
       "      <td>no-recurrence-events'</td>\n",
       "    </tr>\n",
       "    <tr>\n",
       "      <th>178</th>\n",
       "      <td>40-49'</td>\n",
       "      <td>premeno'</td>\n",
       "      <td>25-29'</td>\n",
       "      <td>0-2'</td>\n",
       "      <td>no'</td>\n",
       "      <td>2'</td>\n",
       "      <td>right'</td>\n",
       "      <td>left_low'</td>\n",
       "      <td>no'</td>\n",
       "      <td>recurrence-events'</td>\n",
       "    </tr>\n",
       "    <tr>\n",
       "      <th>190</th>\n",
       "      <td>50-59'</td>\n",
       "      <td>premeno'</td>\n",
       "      <td>25-29'</td>\n",
       "      <td>0-2'</td>\n",
       "      <td>no'</td>\n",
       "      <td>2'</td>\n",
       "      <td>left'</td>\n",
       "      <td>right_up'</td>\n",
       "      <td>no'</td>\n",
       "      <td>recurrence-events'</td>\n",
       "    </tr>\n",
       "    <tr>\n",
       "      <th>214</th>\n",
       "      <td>40-49'</td>\n",
       "      <td>premeno'</td>\n",
       "      <td>20-24'</td>\n",
       "      <td>0-2'</td>\n",
       "      <td>no'</td>\n",
       "      <td>2'</td>\n",
       "      <td>right'</td>\n",
       "      <td>left_up'</td>\n",
       "      <td>no'</td>\n",
       "      <td>no-recurrence-events'</td>\n",
       "    </tr>\n",
       "    <tr>\n",
       "      <th>217</th>\n",
       "      <td>50-59'</td>\n",
       "      <td>premeno'</td>\n",
       "      <td>25-29'</td>\n",
       "      <td>0-2'</td>\n",
       "      <td>no'</td>\n",
       "      <td>2'</td>\n",
       "      <td>left'</td>\n",
       "      <td>left_low'</td>\n",
       "      <td>no'</td>\n",
       "      <td>no-recurrence-events'</td>\n",
       "    </tr>\n",
       "    <tr>\n",
       "      <th>221</th>\n",
       "      <td>50-59'</td>\n",
       "      <td>ge40'</td>\n",
       "      <td>20-24'</td>\n",
       "      <td>0-2'</td>\n",
       "      <td>no'</td>\n",
       "      <td>3'</td>\n",
       "      <td>left'</td>\n",
       "      <td>left_up'</td>\n",
       "      <td>no'</td>\n",
       "      <td>no-recurrence-events'</td>\n",
       "    </tr>\n",
       "    <tr>\n",
       "      <th>239</th>\n",
       "      <td>50-59'</td>\n",
       "      <td>ge40'</td>\n",
       "      <td>40-44'</td>\n",
       "      <td>6-8'</td>\n",
       "      <td>yes'</td>\n",
       "      <td>3'</td>\n",
       "      <td>left'</td>\n",
       "      <td>left_low'</td>\n",
       "      <td>yes'</td>\n",
       "      <td>recurrence-events'</td>\n",
       "    </tr>\n",
       "    <tr>\n",
       "      <th>245</th>\n",
       "      <td>60-69'</td>\n",
       "      <td>ge40'</td>\n",
       "      <td>15-19'</td>\n",
       "      <td>0-2'</td>\n",
       "      <td>no'</td>\n",
       "      <td>2'</td>\n",
       "      <td>left'</td>\n",
       "      <td>left_low'</td>\n",
       "      <td>no'</td>\n",
       "      <td>no-recurrence-events'</td>\n",
       "    </tr>\n",
       "    <tr>\n",
       "      <th>267</th>\n",
       "      <td>30-39'</td>\n",
       "      <td>premeno'</td>\n",
       "      <td>35-39'</td>\n",
       "      <td>0-2'</td>\n",
       "      <td>no'</td>\n",
       "      <td>3'</td>\n",
       "      <td>left'</td>\n",
       "      <td>left_low'</td>\n",
       "      <td>no'</td>\n",
       "      <td>recurrence-events'</td>\n",
       "    </tr>\n",
       "    <tr>\n",
       "      <th>269</th>\n",
       "      <td>60-69'</td>\n",
       "      <td>ge40'</td>\n",
       "      <td>20-24'</td>\n",
       "      <td>0-2'</td>\n",
       "      <td>no'</td>\n",
       "      <td>1'</td>\n",
       "      <td>left'</td>\n",
       "      <td>left_low'</td>\n",
       "      <td>no'</td>\n",
       "      <td>no-recurrence-events'</td>\n",
       "    </tr>\n",
       "  </tbody>\n",
       "</table>\n",
       "</div>"
      ],
      "text/plain": [
       "        age menopause tumer-size inv-nodes node-caps deg-malig  breast  \\\n",
       "17   60-69'     ge40'     15-19'      0-2'       no'        2'  right'   \n",
       "27   40-49'  premeno'     10-14'      0-2'       no'        1'  right'   \n",
       "44   30-39'  premeno'     15-19'      0-2'       no'        1'   left'   \n",
       "65   50-59'     ge40'     15-19'      0-2'       no'        1'  right'   \n",
       "117  60-69'     ge40'     10-14'      0-2'       no'        1'   left'   \n",
       "178  40-49'  premeno'     25-29'      0-2'       no'        2'  right'   \n",
       "190  50-59'  premeno'     25-29'      0-2'       no'        2'   left'   \n",
       "214  40-49'  premeno'     20-24'      0-2'       no'        2'  right'   \n",
       "217  50-59'  premeno'     25-29'      0-2'       no'        2'   left'   \n",
       "221  50-59'     ge40'     20-24'      0-2'       no'        3'   left'   \n",
       "239  50-59'     ge40'     40-44'      6-8'      yes'        3'   left'   \n",
       "245  60-69'     ge40'     15-19'      0-2'       no'        2'   left'   \n",
       "267  30-39'  premeno'     35-39'      0-2'       no'        3'   left'   \n",
       "269  60-69'     ge40'     20-24'      0-2'       no'        1'   left'   \n",
       "\n",
       "    breast-quad irradiate                  class  \n",
       "17     left_up'       no'  no-recurrence-events'  \n",
       "27     left_up'       no'  no-recurrence-events'  \n",
       "44    left_low'       no'  no-recurrence-events'  \n",
       "65     central'       no'  no-recurrence-events'  \n",
       "117    left_up'       no'  no-recurrence-events'  \n",
       "178   left_low'       no'     recurrence-events'  \n",
       "190   right_up'       no'     recurrence-events'  \n",
       "214    left_up'       no'  no-recurrence-events'  \n",
       "217   left_low'       no'  no-recurrence-events'  \n",
       "221    left_up'       no'  no-recurrence-events'  \n",
       "239   left_low'      yes'     recurrence-events'  \n",
       "245   left_low'       no'  no-recurrence-events'  \n",
       "267   left_low'       no'     recurrence-events'  \n",
       "269   left_low'       no'  no-recurrence-events'  "
      ]
     },
     "execution_count": 6,
     "metadata": {},
     "output_type": "execute_result"
    }
   ],
   "source": [
    "df[df.duplicated()]"
   ]
  },
  {
   "cell_type": "code",
   "execution_count": 7,
   "id": "67caf82d",
   "metadata": {
    "scrolled": true
   },
   "outputs": [
    {
     "data": {
      "text/plain": [
       "age            14\n",
       "menopause      14\n",
       "tumer-size     14\n",
       "inv-nodes      14\n",
       "node-caps      14\n",
       "deg-malig      14\n",
       "breast         14\n",
       "breast-quad    14\n",
       "irradiate      14\n",
       "class          14\n",
       "dtype: int64"
      ]
     },
     "execution_count": 7,
     "metadata": {},
     "output_type": "execute_result"
    }
   ],
   "source": [
    "df[df.duplicated()].count()"
   ]
  },
  {
   "cell_type": "code",
   "execution_count": 8,
   "id": "2426f7be",
   "metadata": {},
   "outputs": [
    {
     "data": {
      "text/html": [
       "<div>\n",
       "<style scoped>\n",
       "    .dataframe tbody tr th:only-of-type {\n",
       "        vertical-align: middle;\n",
       "    }\n",
       "\n",
       "    .dataframe tbody tr th {\n",
       "        vertical-align: top;\n",
       "    }\n",
       "\n",
       "    .dataframe thead th {\n",
       "        text-align: right;\n",
       "    }\n",
       "</style>\n",
       "<table border=\"1\" class=\"dataframe\">\n",
       "  <thead>\n",
       "    <tr style=\"text-align: right;\">\n",
       "      <th></th>\n",
       "      <th>age</th>\n",
       "      <th>menopause</th>\n",
       "      <th>tumer-size</th>\n",
       "      <th>inv-nodes</th>\n",
       "      <th>node-caps</th>\n",
       "      <th>deg-malig</th>\n",
       "      <th>breast</th>\n",
       "      <th>breast-quad</th>\n",
       "      <th>irradiate</th>\n",
       "      <th>class</th>\n",
       "    </tr>\n",
       "  </thead>\n",
       "  <tbody>\n",
       "    <tr>\n",
       "      <th>0</th>\n",
       "      <td>40-49'</td>\n",
       "      <td>premeno'</td>\n",
       "      <td>15-19'</td>\n",
       "      <td>0-2'</td>\n",
       "      <td>yes'</td>\n",
       "      <td>3'</td>\n",
       "      <td>right'</td>\n",
       "      <td>left_up'</td>\n",
       "      <td>no'</td>\n",
       "      <td>recurrence-events'</td>\n",
       "    </tr>\n",
       "    <tr>\n",
       "      <th>1</th>\n",
       "      <td>50-59'</td>\n",
       "      <td>ge40'</td>\n",
       "      <td>15-19'</td>\n",
       "      <td>0-2'</td>\n",
       "      <td>no'</td>\n",
       "      <td>1'</td>\n",
       "      <td>right'</td>\n",
       "      <td>central'</td>\n",
       "      <td>no'</td>\n",
       "      <td>no-recurrence-events'</td>\n",
       "    </tr>\n",
       "    <tr>\n",
       "      <th>2</th>\n",
       "      <td>50-59'</td>\n",
       "      <td>ge40'</td>\n",
       "      <td>35-39'</td>\n",
       "      <td>0-2'</td>\n",
       "      <td>no'</td>\n",
       "      <td>2'</td>\n",
       "      <td>left'</td>\n",
       "      <td>left_low'</td>\n",
       "      <td>no'</td>\n",
       "      <td>recurrence-events'</td>\n",
       "    </tr>\n",
       "    <tr>\n",
       "      <th>3</th>\n",
       "      <td>40-49'</td>\n",
       "      <td>premeno'</td>\n",
       "      <td>35-39'</td>\n",
       "      <td>0-2'</td>\n",
       "      <td>yes'</td>\n",
       "      <td>3'</td>\n",
       "      <td>right'</td>\n",
       "      <td>left_low'</td>\n",
       "      <td>yes'</td>\n",
       "      <td>no-recurrence-events'</td>\n",
       "    </tr>\n",
       "    <tr>\n",
       "      <th>4</th>\n",
       "      <td>40-49'</td>\n",
       "      <td>premeno'</td>\n",
       "      <td>30-34'</td>\n",
       "      <td>3-5'</td>\n",
       "      <td>yes'</td>\n",
       "      <td>2'</td>\n",
       "      <td>left'</td>\n",
       "      <td>right_up'</td>\n",
       "      <td>no'</td>\n",
       "      <td>recurrence-events'</td>\n",
       "    </tr>\n",
       "    <tr>\n",
       "      <th>...</th>\n",
       "      <td>...</td>\n",
       "      <td>...</td>\n",
       "      <td>...</td>\n",
       "      <td>...</td>\n",
       "      <td>...</td>\n",
       "      <td>...</td>\n",
       "      <td>...</td>\n",
       "      <td>...</td>\n",
       "      <td>...</td>\n",
       "      <td>...</td>\n",
       "    </tr>\n",
       "    <tr>\n",
       "      <th>281</th>\n",
       "      <td>50-59'</td>\n",
       "      <td>ge40'</td>\n",
       "      <td>30-34'</td>\n",
       "      <td>6-8'</td>\n",
       "      <td>yes'</td>\n",
       "      <td>2'</td>\n",
       "      <td>left'</td>\n",
       "      <td>left_low'</td>\n",
       "      <td>no'</td>\n",
       "      <td>no-recurrence-events'</td>\n",
       "    </tr>\n",
       "    <tr>\n",
       "      <th>282</th>\n",
       "      <td>50-59'</td>\n",
       "      <td>premeno'</td>\n",
       "      <td>25-29'</td>\n",
       "      <td>3-5'</td>\n",
       "      <td>yes'</td>\n",
       "      <td>2'</td>\n",
       "      <td>left'</td>\n",
       "      <td>left_low'</td>\n",
       "      <td>yes'</td>\n",
       "      <td>no-recurrence-events'</td>\n",
       "    </tr>\n",
       "    <tr>\n",
       "      <th>283</th>\n",
       "      <td>30-39'</td>\n",
       "      <td>premeno'</td>\n",
       "      <td>30-34'</td>\n",
       "      <td>6-8'</td>\n",
       "      <td>yes'</td>\n",
       "      <td>2'</td>\n",
       "      <td>right'</td>\n",
       "      <td>right_up'</td>\n",
       "      <td>no'</td>\n",
       "      <td>no-recurrence-events'</td>\n",
       "    </tr>\n",
       "    <tr>\n",
       "      <th>284</th>\n",
       "      <td>50-59'</td>\n",
       "      <td>premeno'</td>\n",
       "      <td>15-19'</td>\n",
       "      <td>0-2'</td>\n",
       "      <td>no'</td>\n",
       "      <td>2'</td>\n",
       "      <td>right'</td>\n",
       "      <td>left_low'</td>\n",
       "      <td>no'</td>\n",
       "      <td>no-recurrence-events'</td>\n",
       "    </tr>\n",
       "    <tr>\n",
       "      <th>285</th>\n",
       "      <td>50-59'</td>\n",
       "      <td>ge40'</td>\n",
       "      <td>40-44'</td>\n",
       "      <td>0-2'</td>\n",
       "      <td>no'</td>\n",
       "      <td>3'</td>\n",
       "      <td>left'</td>\n",
       "      <td>right_up'</td>\n",
       "      <td>no'</td>\n",
       "      <td>no-recurrence-events'</td>\n",
       "    </tr>\n",
       "  </tbody>\n",
       "</table>\n",
       "<p>272 rows × 10 columns</p>\n",
       "</div>"
      ],
      "text/plain": [
       "        age menopause tumer-size inv-nodes node-caps deg-malig  breast  \\\n",
       "0    40-49'  premeno'     15-19'      0-2'      yes'        3'  right'   \n",
       "1    50-59'     ge40'     15-19'      0-2'       no'        1'  right'   \n",
       "2    50-59'     ge40'     35-39'      0-2'       no'        2'   left'   \n",
       "3    40-49'  premeno'     35-39'      0-2'      yes'        3'  right'   \n",
       "4    40-49'  premeno'     30-34'      3-5'      yes'        2'   left'   \n",
       "..      ...       ...        ...       ...       ...       ...     ...   \n",
       "281  50-59'     ge40'     30-34'      6-8'      yes'        2'   left'   \n",
       "282  50-59'  premeno'     25-29'      3-5'      yes'        2'   left'   \n",
       "283  30-39'  premeno'     30-34'      6-8'      yes'        2'  right'   \n",
       "284  50-59'  premeno'     15-19'      0-2'       no'        2'  right'   \n",
       "285  50-59'     ge40'     40-44'      0-2'       no'        3'   left'   \n",
       "\n",
       "    breast-quad irradiate                  class  \n",
       "0      left_up'       no'     recurrence-events'  \n",
       "1      central'       no'  no-recurrence-events'  \n",
       "2     left_low'       no'     recurrence-events'  \n",
       "3     left_low'      yes'  no-recurrence-events'  \n",
       "4     right_up'       no'     recurrence-events'  \n",
       "..          ...       ...                    ...  \n",
       "281   left_low'       no'  no-recurrence-events'  \n",
       "282   left_low'      yes'  no-recurrence-events'  \n",
       "283   right_up'       no'  no-recurrence-events'  \n",
       "284   left_low'       no'  no-recurrence-events'  \n",
       "285   right_up'       no'  no-recurrence-events'  \n",
       "\n",
       "[272 rows x 10 columns]"
      ]
     },
     "execution_count": 8,
     "metadata": {},
     "output_type": "execute_result"
    }
   ],
   "source": [
    "df=df.drop_duplicates(keep='first')\n",
    "df"
   ]
  },
  {
   "cell_type": "code",
   "execution_count": 9,
   "id": "d05d6439",
   "metadata": {},
   "outputs": [],
   "source": [
    "df=df.reset_index(drop=True)"
   ]
  },
  {
   "cell_type": "code",
   "execution_count": 10,
   "id": "e52ef581",
   "metadata": {},
   "outputs": [
    {
     "data": {
      "text/plain": [
       "(272, 10)"
      ]
     },
     "execution_count": 10,
     "metadata": {},
     "output_type": "execute_result"
    }
   ],
   "source": [
    "df.shape"
   ]
  },
  {
   "cell_type": "markdown",
   "id": "75661d65",
   "metadata": {},
   "source": [
    "### TO SEE THE UNIQUE VALUES IN EACH COLUMN"
   ]
  },
  {
   "cell_type": "code",
   "execution_count": 11,
   "id": "2324e7a1",
   "metadata": {
    "scrolled": true
   },
   "outputs": [
    {
     "name": "stdout",
     "output_type": "stream",
     "text": [
      "\n",
      " age \n",
      "\n",
      "[\"40-49'\" \"50-59'\" \"60-69'\" \"30-39'\" \"70-79'\" \"20-29'\"]\n",
      "\n",
      " menopause \n",
      "\n",
      "[\"premeno'\" \"ge40'\" \"lt40'\"]\n",
      "\n",
      " tumer-size \n",
      "\n",
      "[\"15-19'\" \"35-39'\" \"30-34'\" \"25-29'\" \"40-44'\" \"10-14'\" \"0-4'\" \"20-24'\"\n",
      " \"45-49'\" \"50-54'\" \"5-9'\"]\n",
      "\n",
      " inv-nodes \n",
      "\n",
      "[\"0-2'\" \"3-5'\" \"15-17'\" \"6-8'\" \"9-11'\" \"24-26'\" \"12-14'\"]\n",
      "\n",
      " node-caps \n",
      "\n",
      "[\"yes'\" \"no'\" nan]\n",
      "\n",
      " deg-malig \n",
      "\n",
      "[\"3'\" \"1'\" \"2'\"]\n",
      "\n",
      " breast \n",
      "\n",
      "[\"right'\" \"left'\"]\n",
      "\n",
      " breast-quad \n",
      "\n",
      "[\"left_up'\" \"central'\" \"left_low'\" \"right_up'\" \"right_low'\" nan]\n",
      "\n",
      " irradiate \n",
      "\n",
      "[\"no'\" \"yes'\"]\n",
      "\n",
      " class \n",
      "\n",
      "[\"recurrence-events'\" \"no-recurrence-events'\"]\n"
     ]
    }
   ],
   "source": [
    "for i in df.columns:\n",
    "    print('\\n',i,'\\n')\n",
    "    print(df[i].unique())"
   ]
  },
  {
   "cell_type": "markdown",
   "id": "eb088bc6",
   "metadata": {},
   "source": [
    "### Column 1:\n"
   ]
  },
  {
   "cell_type": "code",
   "execution_count": 12,
   "id": "4ae1d516",
   "metadata": {},
   "outputs": [
    {
     "data": {
      "text/plain": [
       "array([\"40-49'\", \"50-59'\", \"60-69'\", \"30-39'\", \"70-79'\", \"20-29'\"],\n",
       "      dtype=object)"
      ]
     },
     "execution_count": 12,
     "metadata": {},
     "output_type": "execute_result"
    }
   ],
   "source": [
    "df['age'].unique()\n"
   ]
  },
  {
   "cell_type": "markdown",
   "id": "33f5f11b",
   "metadata": {},
   "source": [
    "#### It is seen that the age column had the age range in the form \" n,n+10' \". However the \" ' \" is to be removed; making the format just \" n,n+10 \""
   ]
  },
  {
   "cell_type": "code",
   "execution_count": 13,
   "id": "89d9bbf7",
   "metadata": {},
   "outputs": [],
   "source": [
    "df['age']=df.age.str.replace(\"'\",'')\n"
   ]
  },
  {
   "cell_type": "code",
   "execution_count": 14,
   "id": "06e75763",
   "metadata": {},
   "outputs": [
    {
     "data": {
      "text/plain": [
       "array(['40-49', '50-59', '60-69', '30-39', '70-79', '20-29'], dtype=object)"
      ]
     },
     "execution_count": 14,
     "metadata": {},
     "output_type": "execute_result"
    }
   ],
   "source": [
    "df['age'].unique()"
   ]
  },
  {
   "cell_type": "markdown",
   "id": "d9b5bda3",
   "metadata": {},
   "source": [
    "### Column 2:\n"
   ]
  },
  {
   "cell_type": "code",
   "execution_count": 15,
   "id": "3343f8f9",
   "metadata": {},
   "outputs": [
    {
     "data": {
      "text/plain": [
       "array([\"premeno'\", \"ge40'\", \"lt40'\"], dtype=object)"
      ]
     },
     "execution_count": 15,
     "metadata": {},
     "output_type": "execute_result"
    }
   ],
   "source": [
    "df['menopause'].unique()"
   ]
  },
  {
   "cell_type": "markdown",
   "id": "2d59a708",
   "metadata": {},
   "source": [
    "####  \" ' \" is to be removed"
   ]
  },
  {
   "cell_type": "code",
   "execution_count": 16,
   "id": "f4fe9b77",
   "metadata": {},
   "outputs": [],
   "source": [
    "df['menopause']=df.menopause.str.replace(\"'\",'')"
   ]
  },
  {
   "cell_type": "code",
   "execution_count": 17,
   "id": "db60a0a1",
   "metadata": {},
   "outputs": [
    {
     "data": {
      "text/plain": [
       "array(['premeno', 'ge40', 'lt40'], dtype=object)"
      ]
     },
     "execution_count": 17,
     "metadata": {},
     "output_type": "execute_result"
    }
   ],
   "source": [
    "df['menopause'].unique()"
   ]
  },
  {
   "cell_type": "markdown",
   "id": "c13d68df",
   "metadata": {},
   "source": [
    " ### Column 3:\n"
   ]
  },
  {
   "cell_type": "code",
   "execution_count": 102,
   "id": "678100ec",
   "metadata": {},
   "outputs": [
    {
     "data": {
      "text/plain": [
       "array([\"15-19'\", \"35-39'\", \"30-34'\", \"25-29'\", \"40-44'\", \"10-14'\", \"0-4'\",\n",
       "       \"20-24'\", \"45-49'\", \"50-54'\", \"5-9'\"], dtype=object)"
      ]
     },
     "execution_count": 102,
     "metadata": {},
     "output_type": "execute_result"
    }
   ],
   "source": [
    "df['tumer-size'].unique()"
   ]
  },
  {
   "cell_type": "markdown",
   "id": "3d67902e",
   "metadata": {},
   "source": [
    "####  \" ' \" is to be removed"
   ]
  },
  {
   "cell_type": "code",
   "execution_count": 18,
   "id": "b6526bab",
   "metadata": {},
   "outputs": [
    {
     "data": {
      "text/plain": [
       "array(['15-19', '35-39', '30-34', '25-29', '40-44', '10-14', '0-4',\n",
       "       '20-24', '45-49', '50-54', '5-9'], dtype=object)"
      ]
     },
     "execution_count": 18,
     "metadata": {},
     "output_type": "execute_result"
    }
   ],
   "source": [
    "df['tumer-size']=df['tumer-size'].str.replace(\"'\",'')\n",
    "df['tumer-size'].unique()"
   ]
  },
  {
   "cell_type": "markdown",
   "id": "67019b62",
   "metadata": {},
   "source": [
    "#### Also it is desired to have a column with average size of the tumor for analysis"
   ]
  },
  {
   "cell_type": "code",
   "execution_count": 19,
   "id": "465bc305",
   "metadata": {},
   "outputs": [],
   "source": [
    "df[['lower', 'upper']] = df['tumer-size'].str.split('-', expand=True).astype(int)"
   ]
  },
  {
   "cell_type": "code",
   "execution_count": 20,
   "id": "696af7de",
   "metadata": {},
   "outputs": [],
   "source": [
    "df['average_tumor_size'] = (df['lower'] + df['upper']) / 2"
   ]
  },
  {
   "cell_type": "code",
   "execution_count": 21,
   "id": "ecc00539",
   "metadata": {
    "scrolled": true
   },
   "outputs": [
    {
     "data": {
      "text/html": [
       "<div>\n",
       "<style scoped>\n",
       "    .dataframe tbody tr th:only-of-type {\n",
       "        vertical-align: middle;\n",
       "    }\n",
       "\n",
       "    .dataframe tbody tr th {\n",
       "        vertical-align: top;\n",
       "    }\n",
       "\n",
       "    .dataframe thead th {\n",
       "        text-align: right;\n",
       "    }\n",
       "</style>\n",
       "<table border=\"1\" class=\"dataframe\">\n",
       "  <thead>\n",
       "    <tr style=\"text-align: right;\">\n",
       "      <th></th>\n",
       "      <th>age</th>\n",
       "      <th>menopause</th>\n",
       "      <th>tumer-size</th>\n",
       "      <th>inv-nodes</th>\n",
       "      <th>node-caps</th>\n",
       "      <th>deg-malig</th>\n",
       "      <th>breast</th>\n",
       "      <th>breast-quad</th>\n",
       "      <th>irradiate</th>\n",
       "      <th>class</th>\n",
       "      <th>lower</th>\n",
       "      <th>upper</th>\n",
       "      <th>average_tumor_size</th>\n",
       "    </tr>\n",
       "  </thead>\n",
       "  <tbody>\n",
       "    <tr>\n",
       "      <th>0</th>\n",
       "      <td>40-49</td>\n",
       "      <td>premeno</td>\n",
       "      <td>15-19</td>\n",
       "      <td>0-2'</td>\n",
       "      <td>yes'</td>\n",
       "      <td>3'</td>\n",
       "      <td>right'</td>\n",
       "      <td>left_up'</td>\n",
       "      <td>no'</td>\n",
       "      <td>recurrence-events'</td>\n",
       "      <td>15</td>\n",
       "      <td>19</td>\n",
       "      <td>17.0</td>\n",
       "    </tr>\n",
       "    <tr>\n",
       "      <th>1</th>\n",
       "      <td>50-59</td>\n",
       "      <td>ge40</td>\n",
       "      <td>15-19</td>\n",
       "      <td>0-2'</td>\n",
       "      <td>no'</td>\n",
       "      <td>1'</td>\n",
       "      <td>right'</td>\n",
       "      <td>central'</td>\n",
       "      <td>no'</td>\n",
       "      <td>no-recurrence-events'</td>\n",
       "      <td>15</td>\n",
       "      <td>19</td>\n",
       "      <td>17.0</td>\n",
       "    </tr>\n",
       "    <tr>\n",
       "      <th>2</th>\n",
       "      <td>50-59</td>\n",
       "      <td>ge40</td>\n",
       "      <td>35-39</td>\n",
       "      <td>0-2'</td>\n",
       "      <td>no'</td>\n",
       "      <td>2'</td>\n",
       "      <td>left'</td>\n",
       "      <td>left_low'</td>\n",
       "      <td>no'</td>\n",
       "      <td>recurrence-events'</td>\n",
       "      <td>35</td>\n",
       "      <td>39</td>\n",
       "      <td>37.0</td>\n",
       "    </tr>\n",
       "    <tr>\n",
       "      <th>3</th>\n",
       "      <td>40-49</td>\n",
       "      <td>premeno</td>\n",
       "      <td>35-39</td>\n",
       "      <td>0-2'</td>\n",
       "      <td>yes'</td>\n",
       "      <td>3'</td>\n",
       "      <td>right'</td>\n",
       "      <td>left_low'</td>\n",
       "      <td>yes'</td>\n",
       "      <td>no-recurrence-events'</td>\n",
       "      <td>35</td>\n",
       "      <td>39</td>\n",
       "      <td>37.0</td>\n",
       "    </tr>\n",
       "    <tr>\n",
       "      <th>4</th>\n",
       "      <td>40-49</td>\n",
       "      <td>premeno</td>\n",
       "      <td>30-34</td>\n",
       "      <td>3-5'</td>\n",
       "      <td>yes'</td>\n",
       "      <td>2'</td>\n",
       "      <td>left'</td>\n",
       "      <td>right_up'</td>\n",
       "      <td>no'</td>\n",
       "      <td>recurrence-events'</td>\n",
       "      <td>30</td>\n",
       "      <td>34</td>\n",
       "      <td>32.0</td>\n",
       "    </tr>\n",
       "  </tbody>\n",
       "</table>\n",
       "</div>"
      ],
      "text/plain": [
       "     age menopause tumer-size inv-nodes node-caps deg-malig  breast  \\\n",
       "0  40-49   premeno      15-19      0-2'      yes'        3'  right'   \n",
       "1  50-59      ge40      15-19      0-2'       no'        1'  right'   \n",
       "2  50-59      ge40      35-39      0-2'       no'        2'   left'   \n",
       "3  40-49   premeno      35-39      0-2'      yes'        3'  right'   \n",
       "4  40-49   premeno      30-34      3-5'      yes'        2'   left'   \n",
       "\n",
       "  breast-quad irradiate                  class  lower  upper  \\\n",
       "0    left_up'       no'     recurrence-events'     15     19   \n",
       "1    central'       no'  no-recurrence-events'     15     19   \n",
       "2   left_low'       no'     recurrence-events'     35     39   \n",
       "3   left_low'      yes'  no-recurrence-events'     35     39   \n",
       "4   right_up'       no'     recurrence-events'     30     34   \n",
       "\n",
       "   average_tumor_size  \n",
       "0                17.0  \n",
       "1                17.0  \n",
       "2                37.0  \n",
       "3                37.0  \n",
       "4                32.0  "
      ]
     },
     "execution_count": 21,
     "metadata": {},
     "output_type": "execute_result"
    }
   ],
   "source": [
    "df.head()"
   ]
  },
  {
   "cell_type": "code",
   "execution_count": 22,
   "id": "ca53e1c5",
   "metadata": {
    "scrolled": true
   },
   "outputs": [],
   "source": [
    "df=df.drop(columns=['lower','upper'])\n"
   ]
  },
  {
   "cell_type": "code",
   "execution_count": 23,
   "id": "1e1ff9c8",
   "metadata": {},
   "outputs": [
    {
     "data": {
      "text/html": [
       "<div>\n",
       "<style scoped>\n",
       "    .dataframe tbody tr th:only-of-type {\n",
       "        vertical-align: middle;\n",
       "    }\n",
       "\n",
       "    .dataframe tbody tr th {\n",
       "        vertical-align: top;\n",
       "    }\n",
       "\n",
       "    .dataframe thead th {\n",
       "        text-align: right;\n",
       "    }\n",
       "</style>\n",
       "<table border=\"1\" class=\"dataframe\">\n",
       "  <thead>\n",
       "    <tr style=\"text-align: right;\">\n",
       "      <th></th>\n",
       "      <th>age</th>\n",
       "      <th>menopause</th>\n",
       "      <th>tumer-size</th>\n",
       "      <th>inv-nodes</th>\n",
       "      <th>node-caps</th>\n",
       "      <th>deg-malig</th>\n",
       "      <th>breast</th>\n",
       "      <th>breast-quad</th>\n",
       "      <th>irradiate</th>\n",
       "      <th>class</th>\n",
       "      <th>average_tumor_size</th>\n",
       "    </tr>\n",
       "  </thead>\n",
       "  <tbody>\n",
       "    <tr>\n",
       "      <th>0</th>\n",
       "      <td>40-49</td>\n",
       "      <td>premeno</td>\n",
       "      <td>15-19</td>\n",
       "      <td>0-2'</td>\n",
       "      <td>yes'</td>\n",
       "      <td>3'</td>\n",
       "      <td>right'</td>\n",
       "      <td>left_up'</td>\n",
       "      <td>no'</td>\n",
       "      <td>recurrence-events'</td>\n",
       "      <td>17.0</td>\n",
       "    </tr>\n",
       "    <tr>\n",
       "      <th>1</th>\n",
       "      <td>50-59</td>\n",
       "      <td>ge40</td>\n",
       "      <td>15-19</td>\n",
       "      <td>0-2'</td>\n",
       "      <td>no'</td>\n",
       "      <td>1'</td>\n",
       "      <td>right'</td>\n",
       "      <td>central'</td>\n",
       "      <td>no'</td>\n",
       "      <td>no-recurrence-events'</td>\n",
       "      <td>17.0</td>\n",
       "    </tr>\n",
       "    <tr>\n",
       "      <th>2</th>\n",
       "      <td>50-59</td>\n",
       "      <td>ge40</td>\n",
       "      <td>35-39</td>\n",
       "      <td>0-2'</td>\n",
       "      <td>no'</td>\n",
       "      <td>2'</td>\n",
       "      <td>left'</td>\n",
       "      <td>left_low'</td>\n",
       "      <td>no'</td>\n",
       "      <td>recurrence-events'</td>\n",
       "      <td>37.0</td>\n",
       "    </tr>\n",
       "    <tr>\n",
       "      <th>3</th>\n",
       "      <td>40-49</td>\n",
       "      <td>premeno</td>\n",
       "      <td>35-39</td>\n",
       "      <td>0-2'</td>\n",
       "      <td>yes'</td>\n",
       "      <td>3'</td>\n",
       "      <td>right'</td>\n",
       "      <td>left_low'</td>\n",
       "      <td>yes'</td>\n",
       "      <td>no-recurrence-events'</td>\n",
       "      <td>37.0</td>\n",
       "    </tr>\n",
       "    <tr>\n",
       "      <th>4</th>\n",
       "      <td>40-49</td>\n",
       "      <td>premeno</td>\n",
       "      <td>30-34</td>\n",
       "      <td>3-5'</td>\n",
       "      <td>yes'</td>\n",
       "      <td>2'</td>\n",
       "      <td>left'</td>\n",
       "      <td>right_up'</td>\n",
       "      <td>no'</td>\n",
       "      <td>recurrence-events'</td>\n",
       "      <td>32.0</td>\n",
       "    </tr>\n",
       "  </tbody>\n",
       "</table>\n",
       "</div>"
      ],
      "text/plain": [
       "     age menopause tumer-size inv-nodes node-caps deg-malig  breast  \\\n",
       "0  40-49   premeno      15-19      0-2'      yes'        3'  right'   \n",
       "1  50-59      ge40      15-19      0-2'       no'        1'  right'   \n",
       "2  50-59      ge40      35-39      0-2'       no'        2'   left'   \n",
       "3  40-49   premeno      35-39      0-2'      yes'        3'  right'   \n",
       "4  40-49   premeno      30-34      3-5'      yes'        2'   left'   \n",
       "\n",
       "  breast-quad irradiate                  class  average_tumor_size  \n",
       "0    left_up'       no'     recurrence-events'                17.0  \n",
       "1    central'       no'  no-recurrence-events'                17.0  \n",
       "2   left_low'       no'     recurrence-events'                37.0  \n",
       "3   left_low'      yes'  no-recurrence-events'                37.0  \n",
       "4   right_up'       no'     recurrence-events'                32.0  "
      ]
     },
     "execution_count": 23,
     "metadata": {},
     "output_type": "execute_result"
    }
   ],
   "source": [
    "df.head()"
   ]
  },
  {
   "cell_type": "code",
   "execution_count": 109,
   "id": "67482618",
   "metadata": {
    "scrolled": true
   },
   "outputs": [
    {
     "name": "stdout",
     "output_type": "stream",
     "text": [
      "<class 'pandas.core.frame.DataFrame'>\n",
      "RangeIndex: 272 entries, 0 to 271\n",
      "Data columns (total 11 columns):\n",
      " #   Column              Non-Null Count  Dtype  \n",
      "---  ------              --------------  -----  \n",
      " 0   age                 272 non-null    object \n",
      " 1   menopause           272 non-null    object \n",
      " 2   tumer-size          272 non-null    object \n",
      " 3   inv-nodes           272 non-null    object \n",
      " 4   node-caps           264 non-null    object \n",
      " 5   deg-malig           272 non-null    object \n",
      " 6   breast              272 non-null    object \n",
      " 7   breast-quad         271 non-null    object \n",
      " 8   irradiate           272 non-null    object \n",
      " 9   class               272 non-null    object \n",
      " 10  average_tumor_size  272 non-null    float64\n",
      "dtypes: float64(1), object(10)\n",
      "memory usage: 23.5+ KB\n"
     ]
    }
   ],
   "source": [
    "df.info()"
   ]
  },
  {
   "cell_type": "code",
   "execution_count": 24,
   "id": "c80d4021",
   "metadata": {},
   "outputs": [
    {
     "data": {
      "text/html": [
       "<div>\n",
       "<style scoped>\n",
       "    .dataframe tbody tr th:only-of-type {\n",
       "        vertical-align: middle;\n",
       "    }\n",
       "\n",
       "    .dataframe tbody tr th {\n",
       "        vertical-align: top;\n",
       "    }\n",
       "\n",
       "    .dataframe thead th {\n",
       "        text-align: right;\n",
       "    }\n",
       "</style>\n",
       "<table border=\"1\" class=\"dataframe\">\n",
       "  <thead>\n",
       "    <tr style=\"text-align: right;\">\n",
       "      <th></th>\n",
       "      <th>age</th>\n",
       "      <th>menopause</th>\n",
       "      <th>tumer-size</th>\n",
       "      <th>inv-nodes</th>\n",
       "      <th>node-caps</th>\n",
       "      <th>deg-malig</th>\n",
       "      <th>breast</th>\n",
       "      <th>breast-quad</th>\n",
       "      <th>irradiate</th>\n",
       "      <th>class</th>\n",
       "      <th>average_tumor_size(mm)</th>\n",
       "    </tr>\n",
       "  </thead>\n",
       "  <tbody>\n",
       "    <tr>\n",
       "      <th>0</th>\n",
       "      <td>40-49</td>\n",
       "      <td>premeno</td>\n",
       "      <td>15-19</td>\n",
       "      <td>0-2'</td>\n",
       "      <td>yes'</td>\n",
       "      <td>3'</td>\n",
       "      <td>right'</td>\n",
       "      <td>left_up'</td>\n",
       "      <td>no'</td>\n",
       "      <td>recurrence-events'</td>\n",
       "      <td>17.0</td>\n",
       "    </tr>\n",
       "    <tr>\n",
       "      <th>1</th>\n",
       "      <td>50-59</td>\n",
       "      <td>ge40</td>\n",
       "      <td>15-19</td>\n",
       "      <td>0-2'</td>\n",
       "      <td>no'</td>\n",
       "      <td>1'</td>\n",
       "      <td>right'</td>\n",
       "      <td>central'</td>\n",
       "      <td>no'</td>\n",
       "      <td>no-recurrence-events'</td>\n",
       "      <td>17.0</td>\n",
       "    </tr>\n",
       "    <tr>\n",
       "      <th>2</th>\n",
       "      <td>50-59</td>\n",
       "      <td>ge40</td>\n",
       "      <td>35-39</td>\n",
       "      <td>0-2'</td>\n",
       "      <td>no'</td>\n",
       "      <td>2'</td>\n",
       "      <td>left'</td>\n",
       "      <td>left_low'</td>\n",
       "      <td>no'</td>\n",
       "      <td>recurrence-events'</td>\n",
       "      <td>37.0</td>\n",
       "    </tr>\n",
       "    <tr>\n",
       "      <th>3</th>\n",
       "      <td>40-49</td>\n",
       "      <td>premeno</td>\n",
       "      <td>35-39</td>\n",
       "      <td>0-2'</td>\n",
       "      <td>yes'</td>\n",
       "      <td>3'</td>\n",
       "      <td>right'</td>\n",
       "      <td>left_low'</td>\n",
       "      <td>yes'</td>\n",
       "      <td>no-recurrence-events'</td>\n",
       "      <td>37.0</td>\n",
       "    </tr>\n",
       "    <tr>\n",
       "      <th>4</th>\n",
       "      <td>40-49</td>\n",
       "      <td>premeno</td>\n",
       "      <td>30-34</td>\n",
       "      <td>3-5'</td>\n",
       "      <td>yes'</td>\n",
       "      <td>2'</td>\n",
       "      <td>left'</td>\n",
       "      <td>right_up'</td>\n",
       "      <td>no'</td>\n",
       "      <td>recurrence-events'</td>\n",
       "      <td>32.0</td>\n",
       "    </tr>\n",
       "  </tbody>\n",
       "</table>\n",
       "</div>"
      ],
      "text/plain": [
       "     age menopause tumer-size inv-nodes node-caps deg-malig  breast  \\\n",
       "0  40-49   premeno      15-19      0-2'      yes'        3'  right'   \n",
       "1  50-59      ge40      15-19      0-2'       no'        1'  right'   \n",
       "2  50-59      ge40      35-39      0-2'       no'        2'   left'   \n",
       "3  40-49   premeno      35-39      0-2'      yes'        3'  right'   \n",
       "4  40-49   premeno      30-34      3-5'      yes'        2'   left'   \n",
       "\n",
       "  breast-quad irradiate                  class  average_tumor_size(mm)  \n",
       "0    left_up'       no'     recurrence-events'                    17.0  \n",
       "1    central'       no'  no-recurrence-events'                    17.0  \n",
       "2   left_low'       no'     recurrence-events'                    37.0  \n",
       "3   left_low'      yes'  no-recurrence-events'                    37.0  \n",
       "4   right_up'       no'     recurrence-events'                    32.0  "
      ]
     },
     "execution_count": 24,
     "metadata": {},
     "output_type": "execute_result"
    }
   ],
   "source": [
    "df.rename(columns={'average_tumor_size':'average_tumor_size(mm)'},inplace=True)\n",
    "df.head()"
   ]
  },
  {
   "cell_type": "markdown",
   "id": "508b535b",
   "metadata": {},
   "source": [
    "#### Thus we have a new column which gives the average tumor size with its datatype as float"
   ]
  },
  {
   "cell_type": "markdown",
   "id": "77762f01",
   "metadata": {},
   "source": [
    "### Column 4:\n"
   ]
  },
  {
   "cell_type": "code",
   "execution_count": 25,
   "id": "8cbb85d2",
   "metadata": {
    "scrolled": true
   },
   "outputs": [
    {
     "data": {
      "text/plain": [
       "array([\"0-2'\", \"3-5'\", \"15-17'\", \"6-8'\", \"9-11'\", \"24-26'\", \"12-14'\"],\n",
       "      dtype=object)"
      ]
     },
     "execution_count": 25,
     "metadata": {},
     "output_type": "execute_result"
    }
   ],
   "source": [
    "df['inv-nodes'].unique()"
   ]
  },
  {
   "cell_type": "markdown",
   "id": "876195e0",
   "metadata": {},
   "source": [
    "####  \" ' \" is to be removed"
   ]
  },
  {
   "cell_type": "code",
   "execution_count": 26,
   "id": "f0134686",
   "metadata": {},
   "outputs": [],
   "source": [
    "df['inv-nodes']=df['inv-nodes'].str.replace(\"'\",'')\n"
   ]
  },
  {
   "cell_type": "code",
   "execution_count": 27,
   "id": "84bde249",
   "metadata": {
    "scrolled": true
   },
   "outputs": [
    {
     "data": {
      "text/html": [
       "<div>\n",
       "<style scoped>\n",
       "    .dataframe tbody tr th:only-of-type {\n",
       "        vertical-align: middle;\n",
       "    }\n",
       "\n",
       "    .dataframe tbody tr th {\n",
       "        vertical-align: top;\n",
       "    }\n",
       "\n",
       "    .dataframe thead th {\n",
       "        text-align: right;\n",
       "    }\n",
       "</style>\n",
       "<table border=\"1\" class=\"dataframe\">\n",
       "  <thead>\n",
       "    <tr style=\"text-align: right;\">\n",
       "      <th></th>\n",
       "      <th>age</th>\n",
       "      <th>menopause</th>\n",
       "      <th>tumer-size</th>\n",
       "      <th>inv-nodes</th>\n",
       "      <th>node-caps</th>\n",
       "      <th>deg-malig</th>\n",
       "      <th>breast</th>\n",
       "      <th>breast-quad</th>\n",
       "      <th>irradiate</th>\n",
       "      <th>class</th>\n",
       "      <th>average_tumor_size(mm)</th>\n",
       "    </tr>\n",
       "  </thead>\n",
       "  <tbody>\n",
       "    <tr>\n",
       "      <th>0</th>\n",
       "      <td>40-49</td>\n",
       "      <td>premeno</td>\n",
       "      <td>15-19</td>\n",
       "      <td>0-2</td>\n",
       "      <td>yes'</td>\n",
       "      <td>3'</td>\n",
       "      <td>right'</td>\n",
       "      <td>left_up'</td>\n",
       "      <td>no'</td>\n",
       "      <td>recurrence-events'</td>\n",
       "      <td>17.0</td>\n",
       "    </tr>\n",
       "    <tr>\n",
       "      <th>1</th>\n",
       "      <td>50-59</td>\n",
       "      <td>ge40</td>\n",
       "      <td>15-19</td>\n",
       "      <td>0-2</td>\n",
       "      <td>no'</td>\n",
       "      <td>1'</td>\n",
       "      <td>right'</td>\n",
       "      <td>central'</td>\n",
       "      <td>no'</td>\n",
       "      <td>no-recurrence-events'</td>\n",
       "      <td>17.0</td>\n",
       "    </tr>\n",
       "    <tr>\n",
       "      <th>2</th>\n",
       "      <td>50-59</td>\n",
       "      <td>ge40</td>\n",
       "      <td>35-39</td>\n",
       "      <td>0-2</td>\n",
       "      <td>no'</td>\n",
       "      <td>2'</td>\n",
       "      <td>left'</td>\n",
       "      <td>left_low'</td>\n",
       "      <td>no'</td>\n",
       "      <td>recurrence-events'</td>\n",
       "      <td>37.0</td>\n",
       "    </tr>\n",
       "    <tr>\n",
       "      <th>3</th>\n",
       "      <td>40-49</td>\n",
       "      <td>premeno</td>\n",
       "      <td>35-39</td>\n",
       "      <td>0-2</td>\n",
       "      <td>yes'</td>\n",
       "      <td>3'</td>\n",
       "      <td>right'</td>\n",
       "      <td>left_low'</td>\n",
       "      <td>yes'</td>\n",
       "      <td>no-recurrence-events'</td>\n",
       "      <td>37.0</td>\n",
       "    </tr>\n",
       "    <tr>\n",
       "      <th>4</th>\n",
       "      <td>40-49</td>\n",
       "      <td>premeno</td>\n",
       "      <td>30-34</td>\n",
       "      <td>3-5</td>\n",
       "      <td>yes'</td>\n",
       "      <td>2'</td>\n",
       "      <td>left'</td>\n",
       "      <td>right_up'</td>\n",
       "      <td>no'</td>\n",
       "      <td>recurrence-events'</td>\n",
       "      <td>32.0</td>\n",
       "    </tr>\n",
       "  </tbody>\n",
       "</table>\n",
       "</div>"
      ],
      "text/plain": [
       "     age menopause tumer-size inv-nodes node-caps deg-malig  breast  \\\n",
       "0  40-49   premeno      15-19       0-2      yes'        3'  right'   \n",
       "1  50-59      ge40      15-19       0-2       no'        1'  right'   \n",
       "2  50-59      ge40      35-39       0-2       no'        2'   left'   \n",
       "3  40-49   premeno      35-39       0-2      yes'        3'  right'   \n",
       "4  40-49   premeno      30-34       3-5      yes'        2'   left'   \n",
       "\n",
       "  breast-quad irradiate                  class  average_tumor_size(mm)  \n",
       "0    left_up'       no'     recurrence-events'                    17.0  \n",
       "1    central'       no'  no-recurrence-events'                    17.0  \n",
       "2   left_low'       no'     recurrence-events'                    37.0  \n",
       "3   left_low'      yes'  no-recurrence-events'                    37.0  \n",
       "4   right_up'       no'     recurrence-events'                    32.0  "
      ]
     },
     "execution_count": 27,
     "metadata": {},
     "output_type": "execute_result"
    }
   ],
   "source": [
    "df.head()"
   ]
  },
  {
   "cell_type": "code",
   "execution_count": 28,
   "id": "a19d693f",
   "metadata": {},
   "outputs": [
    {
     "data": {
      "text/plain": [
       "array(['0-2', '3-5', '15-17', '6-8', '9-11', '24-26', '12-14'],\n",
       "      dtype=object)"
      ]
     },
     "execution_count": 28,
     "metadata": {},
     "output_type": "execute_result"
    }
   ],
   "source": [
    "df['inv-nodes'].unique()"
   ]
  },
  {
   "cell_type": "code",
   "execution_count": 29,
   "id": "ab1f31f3",
   "metadata": {},
   "outputs": [],
   "source": [
    "df[['lower', 'upper']] = df['inv-nodes'].str.split('-', expand=True).astype(int)\n"
   ]
  },
  {
   "cell_type": "code",
   "execution_count": 30,
   "id": "77928e18",
   "metadata": {},
   "outputs": [],
   "source": [
    "df['inv_nodes_avg'] = (df['lower'] + df['upper']) / 2"
   ]
  },
  {
   "cell_type": "code",
   "execution_count": 31,
   "id": "d53165ee",
   "metadata": {},
   "outputs": [],
   "source": [
    "df=df.drop(columns=['lower','upper'])"
   ]
  },
  {
   "cell_type": "code",
   "execution_count": 33,
   "id": "4f9200ef",
   "metadata": {},
   "outputs": [],
   "source": [
    "df['inv_nodes_avg']=df['inv_nodes_avg'].astype(int)"
   ]
  },
  {
   "cell_type": "code",
   "execution_count": 34,
   "id": "57139732",
   "metadata": {},
   "outputs": [
    {
     "name": "stdout",
     "output_type": "stream",
     "text": [
      "<class 'pandas.core.frame.DataFrame'>\n",
      "RangeIndex: 272 entries, 0 to 271\n",
      "Data columns (total 12 columns):\n",
      " #   Column                  Non-Null Count  Dtype  \n",
      "---  ------                  --------------  -----  \n",
      " 0   age                     272 non-null    object \n",
      " 1   menopause               272 non-null    object \n",
      " 2   tumer-size              272 non-null    object \n",
      " 3   inv-nodes               272 non-null    object \n",
      " 4   node-caps               264 non-null    object \n",
      " 5   deg-malig               272 non-null    object \n",
      " 6   breast                  272 non-null    object \n",
      " 7   breast-quad             271 non-null    object \n",
      " 8   irradiate               272 non-null    object \n",
      " 9   class                   272 non-null    object \n",
      " 10  average_tumor_size(mm)  272 non-null    float64\n",
      " 11  inv_nodes_avg           272 non-null    int32  \n",
      "dtypes: float64(1), int32(1), object(10)\n",
      "memory usage: 24.6+ KB\n"
     ]
    }
   ],
   "source": [
    "df.info()"
   ]
  },
  {
   "cell_type": "code",
   "execution_count": 35,
   "id": "c6c9534c",
   "metadata": {
    "scrolled": true
   },
   "outputs": [
    {
     "data": {
      "text/html": [
       "<div>\n",
       "<style scoped>\n",
       "    .dataframe tbody tr th:only-of-type {\n",
       "        vertical-align: middle;\n",
       "    }\n",
       "\n",
       "    .dataframe tbody tr th {\n",
       "        vertical-align: top;\n",
       "    }\n",
       "\n",
       "    .dataframe thead th {\n",
       "        text-align: right;\n",
       "    }\n",
       "</style>\n",
       "<table border=\"1\" class=\"dataframe\">\n",
       "  <thead>\n",
       "    <tr style=\"text-align: right;\">\n",
       "      <th></th>\n",
       "      <th>age</th>\n",
       "      <th>menopause</th>\n",
       "      <th>tumer-size</th>\n",
       "      <th>inv-nodes</th>\n",
       "      <th>node-caps</th>\n",
       "      <th>deg-malig</th>\n",
       "      <th>breast</th>\n",
       "      <th>breast-quad</th>\n",
       "      <th>irradiate</th>\n",
       "      <th>class</th>\n",
       "      <th>average_tumor_size(mm)</th>\n",
       "      <th>inv_nodes_avg</th>\n",
       "    </tr>\n",
       "  </thead>\n",
       "  <tbody>\n",
       "    <tr>\n",
       "      <th>0</th>\n",
       "      <td>40-49</td>\n",
       "      <td>premeno</td>\n",
       "      <td>15-19</td>\n",
       "      <td>0-2</td>\n",
       "      <td>yes'</td>\n",
       "      <td>3'</td>\n",
       "      <td>right'</td>\n",
       "      <td>left_up'</td>\n",
       "      <td>no'</td>\n",
       "      <td>recurrence-events'</td>\n",
       "      <td>17.0</td>\n",
       "      <td>1</td>\n",
       "    </tr>\n",
       "    <tr>\n",
       "      <th>1</th>\n",
       "      <td>50-59</td>\n",
       "      <td>ge40</td>\n",
       "      <td>15-19</td>\n",
       "      <td>0-2</td>\n",
       "      <td>no'</td>\n",
       "      <td>1'</td>\n",
       "      <td>right'</td>\n",
       "      <td>central'</td>\n",
       "      <td>no'</td>\n",
       "      <td>no-recurrence-events'</td>\n",
       "      <td>17.0</td>\n",
       "      <td>1</td>\n",
       "    </tr>\n",
       "    <tr>\n",
       "      <th>2</th>\n",
       "      <td>50-59</td>\n",
       "      <td>ge40</td>\n",
       "      <td>35-39</td>\n",
       "      <td>0-2</td>\n",
       "      <td>no'</td>\n",
       "      <td>2'</td>\n",
       "      <td>left'</td>\n",
       "      <td>left_low'</td>\n",
       "      <td>no'</td>\n",
       "      <td>recurrence-events'</td>\n",
       "      <td>37.0</td>\n",
       "      <td>1</td>\n",
       "    </tr>\n",
       "    <tr>\n",
       "      <th>3</th>\n",
       "      <td>40-49</td>\n",
       "      <td>premeno</td>\n",
       "      <td>35-39</td>\n",
       "      <td>0-2</td>\n",
       "      <td>yes'</td>\n",
       "      <td>3'</td>\n",
       "      <td>right'</td>\n",
       "      <td>left_low'</td>\n",
       "      <td>yes'</td>\n",
       "      <td>no-recurrence-events'</td>\n",
       "      <td>37.0</td>\n",
       "      <td>1</td>\n",
       "    </tr>\n",
       "    <tr>\n",
       "      <th>4</th>\n",
       "      <td>40-49</td>\n",
       "      <td>premeno</td>\n",
       "      <td>30-34</td>\n",
       "      <td>3-5</td>\n",
       "      <td>yes'</td>\n",
       "      <td>2'</td>\n",
       "      <td>left'</td>\n",
       "      <td>right_up'</td>\n",
       "      <td>no'</td>\n",
       "      <td>recurrence-events'</td>\n",
       "      <td>32.0</td>\n",
       "      <td>4</td>\n",
       "    </tr>\n",
       "  </tbody>\n",
       "</table>\n",
       "</div>"
      ],
      "text/plain": [
       "     age menopause tumer-size inv-nodes node-caps deg-malig  breast  \\\n",
       "0  40-49   premeno      15-19       0-2      yes'        3'  right'   \n",
       "1  50-59      ge40      15-19       0-2       no'        1'  right'   \n",
       "2  50-59      ge40      35-39       0-2       no'        2'   left'   \n",
       "3  40-49   premeno      35-39       0-2      yes'        3'  right'   \n",
       "4  40-49   premeno      30-34       3-5      yes'        2'   left'   \n",
       "\n",
       "  breast-quad irradiate                  class  average_tumor_size(mm)  \\\n",
       "0    left_up'       no'     recurrence-events'                    17.0   \n",
       "1    central'       no'  no-recurrence-events'                    17.0   \n",
       "2   left_low'       no'     recurrence-events'                    37.0   \n",
       "3   left_low'      yes'  no-recurrence-events'                    37.0   \n",
       "4   right_up'       no'     recurrence-events'                    32.0   \n",
       "\n",
       "   inv_nodes_avg  \n",
       "0              1  \n",
       "1              1  \n",
       "2              1  \n",
       "3              1  \n",
       "4              4  "
      ]
     },
     "execution_count": 35,
     "metadata": {},
     "output_type": "execute_result"
    }
   ],
   "source": [
    "df.head()"
   ]
  },
  {
   "cell_type": "markdown",
   "id": "5bb16cee",
   "metadata": {},
   "source": [
    "### Column 5:"
   ]
  },
  {
   "cell_type": "code",
   "execution_count": 120,
   "id": "402c71d6",
   "metadata": {},
   "outputs": [
    {
     "name": "stdout",
     "output_type": "stream",
     "text": [
      "<class 'pandas.core.frame.DataFrame'>\n",
      "RangeIndex: 272 entries, 0 to 271\n",
      "Data columns (total 10 columns):\n",
      " #   Column                  Non-Null Count  Dtype  \n",
      "---  ------                  --------------  -----  \n",
      " 0   age                     272 non-null    object \n",
      " 1   menopause               272 non-null    object \n",
      " 2   tumer-size              272 non-null    object \n",
      " 3   node-caps               264 non-null    object \n",
      " 4   deg-malig               272 non-null    object \n",
      " 5   breast                  272 non-null    object \n",
      " 6   breast-quad             271 non-null    object \n",
      " 7   irradiate               272 non-null    object \n",
      " 8   class                   272 non-null    object \n",
      " 9   average_tumor_size(mm)  272 non-null    float64\n",
      "dtypes: float64(1), object(9)\n",
      "memory usage: 21.4+ KB\n"
     ]
    }
   ],
   "source": [
    "df.info()"
   ]
  },
  {
   "cell_type": "markdown",
   "id": "6ad9d2e7",
   "metadata": {},
   "source": [
    "#### This column contains null values"
   ]
  },
  {
   "cell_type": "code",
   "execution_count": 36,
   "id": "ecef1ab2",
   "metadata": {},
   "outputs": [
    {
     "data": {
      "text/plain": [
       "8"
      ]
     },
     "execution_count": 36,
     "metadata": {},
     "output_type": "execute_result"
    }
   ],
   "source": [
    "df['node-caps'].isnull().sum()"
   ]
  },
  {
   "cell_type": "code",
   "execution_count": 37,
   "id": "936215b4",
   "metadata": {
    "scrolled": true
   },
   "outputs": [
    {
     "data": {
      "text/html": [
       "<div>\n",
       "<style scoped>\n",
       "    .dataframe tbody tr th:only-of-type {\n",
       "        vertical-align: middle;\n",
       "    }\n",
       "\n",
       "    .dataframe tbody tr th {\n",
       "        vertical-align: top;\n",
       "    }\n",
       "\n",
       "    .dataframe thead th {\n",
       "        text-align: right;\n",
       "    }\n",
       "</style>\n",
       "<table border=\"1\" class=\"dataframe\">\n",
       "  <thead>\n",
       "    <tr style=\"text-align: right;\">\n",
       "      <th></th>\n",
       "      <th>age</th>\n",
       "      <th>menopause</th>\n",
       "      <th>tumer-size</th>\n",
       "      <th>inv-nodes</th>\n",
       "      <th>node-caps</th>\n",
       "      <th>deg-malig</th>\n",
       "      <th>breast</th>\n",
       "      <th>breast-quad</th>\n",
       "      <th>irradiate</th>\n",
       "      <th>class</th>\n",
       "      <th>average_tumor_size(mm)</th>\n",
       "      <th>inv_nodes_avg</th>\n",
       "    </tr>\n",
       "  </thead>\n",
       "  <tbody>\n",
       "    <tr>\n",
       "      <th>19</th>\n",
       "      <td>50-59</td>\n",
       "      <td>lt40</td>\n",
       "      <td>20-24</td>\n",
       "      <td>0-2</td>\n",
       "      <td>NaN</td>\n",
       "      <td>1'</td>\n",
       "      <td>left'</td>\n",
       "      <td>left_low'</td>\n",
       "      <td>no'</td>\n",
       "      <td>recurrence-events'</td>\n",
       "      <td>22.0</td>\n",
       "      <td>1</td>\n",
       "    </tr>\n",
       "    <tr>\n",
       "      <th>29</th>\n",
       "      <td>60-69</td>\n",
       "      <td>ge40</td>\n",
       "      <td>25-29</td>\n",
       "      <td>3-5</td>\n",
       "      <td>NaN</td>\n",
       "      <td>1'</td>\n",
       "      <td>right'</td>\n",
       "      <td>left_low'</td>\n",
       "      <td>yes'</td>\n",
       "      <td>no-recurrence-events'</td>\n",
       "      <td>27.0</td>\n",
       "      <td>4</td>\n",
       "    </tr>\n",
       "    <tr>\n",
       "      <th>47</th>\n",
       "      <td>70-79</td>\n",
       "      <td>ge40</td>\n",
       "      <td>15-19</td>\n",
       "      <td>9-11</td>\n",
       "      <td>NaN</td>\n",
       "      <td>1'</td>\n",
       "      <td>left'</td>\n",
       "      <td>left_low'</td>\n",
       "      <td>yes'</td>\n",
       "      <td>recurrence-events'</td>\n",
       "      <td>17.0</td>\n",
       "      <td>10</td>\n",
       "    </tr>\n",
       "    <tr>\n",
       "      <th>51</th>\n",
       "      <td>40-49</td>\n",
       "      <td>premeno</td>\n",
       "      <td>25-29</td>\n",
       "      <td>0-2</td>\n",
       "      <td>NaN</td>\n",
       "      <td>2'</td>\n",
       "      <td>left'</td>\n",
       "      <td>right_low'</td>\n",
       "      <td>yes'</td>\n",
       "      <td>no-recurrence-events'</td>\n",
       "      <td>27.0</td>\n",
       "      <td>1</td>\n",
       "    </tr>\n",
       "    <tr>\n",
       "      <th>67</th>\n",
       "      <td>60-69</td>\n",
       "      <td>ge40</td>\n",
       "      <td>25-29</td>\n",
       "      <td>3-5</td>\n",
       "      <td>NaN</td>\n",
       "      <td>1'</td>\n",
       "      <td>right'</td>\n",
       "      <td>left_up'</td>\n",
       "      <td>yes'</td>\n",
       "      <td>no-recurrence-events'</td>\n",
       "      <td>27.0</td>\n",
       "      <td>4</td>\n",
       "    </tr>\n",
       "    <tr>\n",
       "      <th>88</th>\n",
       "      <td>50-59</td>\n",
       "      <td>lt40</td>\n",
       "      <td>20-24</td>\n",
       "      <td>0-2</td>\n",
       "      <td>NaN</td>\n",
       "      <td>1'</td>\n",
       "      <td>left'</td>\n",
       "      <td>left_up'</td>\n",
       "      <td>no'</td>\n",
       "      <td>recurrence-events'</td>\n",
       "      <td>22.0</td>\n",
       "      <td>1</td>\n",
       "    </tr>\n",
       "    <tr>\n",
       "      <th>144</th>\n",
       "      <td>50-59</td>\n",
       "      <td>ge40</td>\n",
       "      <td>30-34</td>\n",
       "      <td>9-11</td>\n",
       "      <td>NaN</td>\n",
       "      <td>3'</td>\n",
       "      <td>left'</td>\n",
       "      <td>left_up'</td>\n",
       "      <td>yes'</td>\n",
       "      <td>no-recurrence-events'</td>\n",
       "      <td>32.0</td>\n",
       "      <td>10</td>\n",
       "    </tr>\n",
       "    <tr>\n",
       "      <th>252</th>\n",
       "      <td>50-59</td>\n",
       "      <td>ge40</td>\n",
       "      <td>30-34</td>\n",
       "      <td>9-11</td>\n",
       "      <td>NaN</td>\n",
       "      <td>3'</td>\n",
       "      <td>left'</td>\n",
       "      <td>left_low'</td>\n",
       "      <td>yes'</td>\n",
       "      <td>no-recurrence-events'</td>\n",
       "      <td>32.0</td>\n",
       "      <td>10</td>\n",
       "    </tr>\n",
       "  </tbody>\n",
       "</table>\n",
       "</div>"
      ],
      "text/plain": [
       "       age menopause tumer-size inv-nodes node-caps deg-malig  breast  \\\n",
       "19   50-59      lt40      20-24       0-2       NaN        1'   left'   \n",
       "29   60-69      ge40      25-29       3-5       NaN        1'  right'   \n",
       "47   70-79      ge40      15-19      9-11       NaN        1'   left'   \n",
       "51   40-49   premeno      25-29       0-2       NaN        2'   left'   \n",
       "67   60-69      ge40      25-29       3-5       NaN        1'  right'   \n",
       "88   50-59      lt40      20-24       0-2       NaN        1'   left'   \n",
       "144  50-59      ge40      30-34      9-11       NaN        3'   left'   \n",
       "252  50-59      ge40      30-34      9-11       NaN        3'   left'   \n",
       "\n",
       "    breast-quad irradiate                  class  average_tumor_size(mm)  \\\n",
       "19    left_low'       no'     recurrence-events'                    22.0   \n",
       "29    left_low'      yes'  no-recurrence-events'                    27.0   \n",
       "47    left_low'      yes'     recurrence-events'                    17.0   \n",
       "51   right_low'      yes'  no-recurrence-events'                    27.0   \n",
       "67     left_up'      yes'  no-recurrence-events'                    27.0   \n",
       "88     left_up'       no'     recurrence-events'                    22.0   \n",
       "144    left_up'      yes'  no-recurrence-events'                    32.0   \n",
       "252   left_low'      yes'  no-recurrence-events'                    32.0   \n",
       "\n",
       "     inv_nodes_avg  \n",
       "19               1  \n",
       "29               4  \n",
       "47              10  \n",
       "51               1  \n",
       "67               4  \n",
       "88               1  \n",
       "144             10  \n",
       "252             10  "
      ]
     },
     "execution_count": 37,
     "metadata": {},
     "output_type": "execute_result"
    }
   ],
   "source": [
    "df[df['node-caps'].isnull()]"
   ]
  },
  {
   "cell_type": "code",
   "execution_count": 38,
   "id": "0482a3c3",
   "metadata": {},
   "outputs": [],
   "source": [
    "df['node-caps']=df['node-caps'].str.replace(\"'\",'')"
   ]
  },
  {
   "cell_type": "code",
   "execution_count": 39,
   "id": "53a4d1ad",
   "metadata": {},
   "outputs": [
    {
     "data": {
      "text/plain": [
       "array(['yes', 'no', nan], dtype=object)"
      ]
     },
     "execution_count": 39,
     "metadata": {},
     "output_type": "execute_result"
    }
   ],
   "source": [
    "df['node-caps'].unique()"
   ]
  },
  {
   "cell_type": "code",
   "execution_count": 40,
   "id": "01084d0e",
   "metadata": {
    "scrolled": true
   },
   "outputs": [
    {
     "data": {
      "text/plain": [
       "no     209\n",
       "yes     55\n",
       "Name: node-caps, dtype: int64"
      ]
     },
     "execution_count": 40,
     "metadata": {},
     "output_type": "execute_result"
    }
   ],
   "source": [
    "df['node-caps'].value_counts()"
   ]
  },
  {
   "cell_type": "code",
   "execution_count": 42,
   "id": "9087d610",
   "metadata": {},
   "outputs": [],
   "source": [
    "df['node-caps'].fillna('no', inplace=True)\n"
   ]
  },
  {
   "cell_type": "code",
   "execution_count": 43,
   "id": "00d41317",
   "metadata": {
    "scrolled": true
   },
   "outputs": [
    {
     "data": {
      "text/plain": [
       "0"
      ]
     },
     "execution_count": 43,
     "metadata": {},
     "output_type": "execute_result"
    }
   ],
   "source": [
    "df['node-caps'].isnull().sum()"
   ]
  },
  {
   "cell_type": "code",
   "execution_count": 44,
   "id": "f9eb9e1c",
   "metadata": {},
   "outputs": [
    {
     "name": "stdout",
     "output_type": "stream",
     "text": [
      "<class 'pandas.core.frame.DataFrame'>\n",
      "RangeIndex: 272 entries, 0 to 271\n",
      "Data columns (total 12 columns):\n",
      " #   Column                  Non-Null Count  Dtype  \n",
      "---  ------                  --------------  -----  \n",
      " 0   age                     272 non-null    object \n",
      " 1   menopause               272 non-null    object \n",
      " 2   tumer-size              272 non-null    object \n",
      " 3   inv-nodes               272 non-null    object \n",
      " 4   node-caps               272 non-null    object \n",
      " 5   deg-malig               272 non-null    object \n",
      " 6   breast                  272 non-null    object \n",
      " 7   breast-quad             271 non-null    object \n",
      " 8   irradiate               272 non-null    object \n",
      " 9   class                   272 non-null    object \n",
      " 10  average_tumor_size(mm)  272 non-null    float64\n",
      " 11  inv_nodes_avg           272 non-null    int32  \n",
      "dtypes: float64(1), int32(1), object(10)\n",
      "memory usage: 24.6+ KB\n"
     ]
    }
   ],
   "source": [
    "df.info()"
   ]
  },
  {
   "cell_type": "markdown",
   "id": "3263f024",
   "metadata": {},
   "source": [
    "### Column 6 deg-malig"
   ]
  },
  {
   "cell_type": "code",
   "execution_count": 45,
   "id": "dac0a552",
   "metadata": {},
   "outputs": [],
   "source": [
    "df['deg-malig']=df['deg-malig'].str.replace(\"'\",'')"
   ]
  },
  {
   "cell_type": "code",
   "execution_count": 46,
   "id": "47afbb07",
   "metadata": {
    "scrolled": true
   },
   "outputs": [
    {
     "data": {
      "text/plain": [
       "array(['3', '1', '2'], dtype=object)"
      ]
     },
     "execution_count": 46,
     "metadata": {},
     "output_type": "execute_result"
    }
   ],
   "source": [
    "df['deg-malig'].unique()"
   ]
  },
  {
   "cell_type": "code",
   "execution_count": 47,
   "id": "0eb53608",
   "metadata": {
    "scrolled": true
   },
   "outputs": [],
   "source": [
    "df['deg-malig']=df['deg-malig'].astype(int)"
   ]
  },
  {
   "cell_type": "code",
   "execution_count": 48,
   "id": "c0b89847",
   "metadata": {},
   "outputs": [
    {
     "name": "stdout",
     "output_type": "stream",
     "text": [
      "<class 'pandas.core.frame.DataFrame'>\n",
      "RangeIndex: 272 entries, 0 to 271\n",
      "Data columns (total 12 columns):\n",
      " #   Column                  Non-Null Count  Dtype  \n",
      "---  ------                  --------------  -----  \n",
      " 0   age                     272 non-null    object \n",
      " 1   menopause               272 non-null    object \n",
      " 2   tumer-size              272 non-null    object \n",
      " 3   inv-nodes               272 non-null    object \n",
      " 4   node-caps               272 non-null    object \n",
      " 5   deg-malig               272 non-null    int32  \n",
      " 6   breast                  272 non-null    object \n",
      " 7   breast-quad             271 non-null    object \n",
      " 8   irradiate               272 non-null    object \n",
      " 9   class                   272 non-null    object \n",
      " 10  average_tumor_size(mm)  272 non-null    float64\n",
      " 11  inv_nodes_avg           272 non-null    int32  \n",
      "dtypes: float64(1), int32(2), object(9)\n",
      "memory usage: 23.5+ KB\n"
     ]
    }
   ],
   "source": [
    "df.info()"
   ]
  },
  {
   "cell_type": "markdown",
   "id": "d8d51f8e",
   "metadata": {},
   "source": [
    "### Column 7"
   ]
  },
  {
   "cell_type": "code",
   "execution_count": 49,
   "id": "1a5b3c6e",
   "metadata": {},
   "outputs": [
    {
     "data": {
      "text/plain": [
       "array([\"left_up'\", \"central'\", \"left_low'\", \"right_up'\", \"right_low'\",\n",
       "       nan], dtype=object)"
      ]
     },
     "execution_count": 49,
     "metadata": {},
     "output_type": "execute_result"
    }
   ],
   "source": [
    "df['breast-quad'].unique()"
   ]
  },
  {
   "cell_type": "code",
   "execution_count": 50,
   "id": "59cfc369",
   "metadata": {},
   "outputs": [],
   "source": [
    "df['breast-quad']=df['breast-quad'].str.replace(\"'\",'')"
   ]
  },
  {
   "cell_type": "code",
   "execution_count": 51,
   "id": "8152993a",
   "metadata": {},
   "outputs": [
    {
     "data": {
      "text/plain": [
       "1"
      ]
     },
     "execution_count": 51,
     "metadata": {},
     "output_type": "execute_result"
    }
   ],
   "source": [
    "df['breast-quad'].isnull().sum()"
   ]
  },
  {
   "cell_type": "code",
   "execution_count": 52,
   "id": "e43cff17",
   "metadata": {
    "scrolled": true
   },
   "outputs": [
    {
     "data": {
      "text/plain": [
       "left_low     103\n",
       "left_up       92\n",
       "right_up      32\n",
       "right_low     24\n",
       "central       20\n",
       "Name: breast-quad, dtype: int64"
      ]
     },
     "execution_count": 52,
     "metadata": {},
     "output_type": "execute_result"
    }
   ],
   "source": [
    "df['breast-quad'].value_counts()"
   ]
  },
  {
   "cell_type": "code",
   "execution_count": 56,
   "id": "4e33a433",
   "metadata": {},
   "outputs": [],
   "source": [
    "df['breast-quad'].fillna('left_low', inplace=True)"
   ]
  },
  {
   "cell_type": "code",
   "execution_count": 57,
   "id": "773adeb5",
   "metadata": {},
   "outputs": [
    {
     "data": {
      "text/plain": [
       "0"
      ]
     },
     "execution_count": 57,
     "metadata": {},
     "output_type": "execute_result"
    }
   ],
   "source": [
    "df['breast-quad'].isnull().sum()"
   ]
  },
  {
   "cell_type": "code",
   "execution_count": 58,
   "id": "437c8447",
   "metadata": {},
   "outputs": [
    {
     "data": {
      "text/plain": [
       "array(['left_up', 'central', 'left_low', 'right_up', 'right_low'],\n",
       "      dtype=object)"
      ]
     },
     "execution_count": 58,
     "metadata": {},
     "output_type": "execute_result"
    }
   ],
   "source": [
    "df['breast-quad'].unique()"
   ]
  },
  {
   "cell_type": "markdown",
   "id": "4ac86647",
   "metadata": {},
   "source": [
    "### Column 8"
   ]
  },
  {
   "cell_type": "code",
   "execution_count": 59,
   "id": "118f3f66",
   "metadata": {},
   "outputs": [
    {
     "data": {
      "text/plain": [
       "Index(['age', 'menopause', 'tumer-size', 'inv-nodes', 'node-caps', 'deg-malig',\n",
       "       'breast', 'breast-quad', 'irradiate', 'class', 'average_tumor_size(mm)',\n",
       "       'inv_nodes_avg'],\n",
       "      dtype='object')"
      ]
     },
     "execution_count": 59,
     "metadata": {},
     "output_type": "execute_result"
    }
   ],
   "source": [
    "df.columns"
   ]
  },
  {
   "cell_type": "code",
   "execution_count": 60,
   "id": "abd64dc3",
   "metadata": {},
   "outputs": [
    {
     "data": {
      "text/plain": [
       "array([\"right'\", \"left'\"], dtype=object)"
      ]
     },
     "execution_count": 60,
     "metadata": {},
     "output_type": "execute_result"
    }
   ],
   "source": [
    "df.breast.unique()"
   ]
  },
  {
   "cell_type": "code",
   "execution_count": 61,
   "id": "fae6ed87",
   "metadata": {},
   "outputs": [],
   "source": [
    "df['breast']=df['breast'].str.replace(\"'\",'')"
   ]
  },
  {
   "cell_type": "code",
   "execution_count": 62,
   "id": "e9a2af37",
   "metadata": {},
   "outputs": [
    {
     "data": {
      "text/plain": [
       "array(['right', 'left'], dtype=object)"
      ]
     },
     "execution_count": 62,
     "metadata": {},
     "output_type": "execute_result"
    }
   ],
   "source": [
    "df.breast.unique()"
   ]
  },
  {
   "cell_type": "markdown",
   "id": "d51457b2",
   "metadata": {},
   "source": [
    "### Column 9"
   ]
  },
  {
   "cell_type": "code",
   "execution_count": 63,
   "id": "b2b78dbd",
   "metadata": {},
   "outputs": [
    {
     "data": {
      "text/plain": [
       "array([\"no'\", \"yes'\"], dtype=object)"
      ]
     },
     "execution_count": 63,
     "metadata": {},
     "output_type": "execute_result"
    }
   ],
   "source": [
    "df.irradiate.unique()"
   ]
  },
  {
   "cell_type": "code",
   "execution_count": 64,
   "id": "ab744e64",
   "metadata": {},
   "outputs": [],
   "source": [
    "df['irradiate']=df['irradiate'].str.replace(\"'\",'')"
   ]
  },
  {
   "cell_type": "code",
   "execution_count": 65,
   "id": "adee1501",
   "metadata": {},
   "outputs": [
    {
     "data": {
      "text/plain": [
       "array(['no', 'yes'], dtype=object)"
      ]
     },
     "execution_count": 65,
     "metadata": {},
     "output_type": "execute_result"
    }
   ],
   "source": [
    "df.irradiate.unique()"
   ]
  },
  {
   "cell_type": "markdown",
   "id": "33c66c82",
   "metadata": {},
   "source": [
    "### Column 10"
   ]
  },
  {
   "cell_type": "code",
   "execution_count": 66,
   "id": "005d85a7",
   "metadata": {},
   "outputs": [
    {
     "data": {
      "text/plain": [
       "array([\"recurrence-events'\", \"no-recurrence-events'\"], dtype=object)"
      ]
     },
     "execution_count": 66,
     "metadata": {},
     "output_type": "execute_result"
    }
   ],
   "source": [
    "df['class'].unique()"
   ]
  },
  {
   "cell_type": "code",
   "execution_count": 67,
   "id": "e8d016b7",
   "metadata": {},
   "outputs": [],
   "source": [
    "df['class']=df['class'].str.replace(\"'\",'')"
   ]
  },
  {
   "cell_type": "code",
   "execution_count": 68,
   "id": "872f4f03",
   "metadata": {},
   "outputs": [
    {
     "data": {
      "text/plain": [
       "array(['recurrence-events', 'no-recurrence-events'], dtype=object)"
      ]
     },
     "execution_count": 68,
     "metadata": {},
     "output_type": "execute_result"
    }
   ],
   "source": [
    "df['class'].unique()"
   ]
  },
  {
   "cell_type": "code",
   "execution_count": 69,
   "id": "5d655a58",
   "metadata": {},
   "outputs": [
    {
     "name": "stdout",
     "output_type": "stream",
     "text": [
      "<class 'pandas.core.frame.DataFrame'>\n",
      "RangeIndex: 272 entries, 0 to 271\n",
      "Data columns (total 12 columns):\n",
      " #   Column                  Non-Null Count  Dtype  \n",
      "---  ------                  --------------  -----  \n",
      " 0   age                     272 non-null    object \n",
      " 1   menopause               272 non-null    object \n",
      " 2   tumer-size              272 non-null    object \n",
      " 3   inv-nodes               272 non-null    object \n",
      " 4   node-caps               272 non-null    object \n",
      " 5   deg-malig               272 non-null    int32  \n",
      " 6   breast                  272 non-null    object \n",
      " 7   breast-quad             272 non-null    object \n",
      " 8   irradiate               272 non-null    object \n",
      " 9   class                   272 non-null    object \n",
      " 10  average_tumor_size(mm)  272 non-null    float64\n",
      " 11  inv_nodes_avg           272 non-null    int32  \n",
      "dtypes: float64(1), int32(2), object(9)\n",
      "memory usage: 23.5+ KB\n"
     ]
    }
   ],
   "source": [
    "df.info()"
   ]
  },
  {
   "cell_type": "code",
   "execution_count": 154,
   "id": "a569d282",
   "metadata": {
    "scrolled": false
   },
   "outputs": [
    {
     "data": {
      "text/html": [
       "<div>\n",
       "<style scoped>\n",
       "    .dataframe tbody tr th:only-of-type {\n",
       "        vertical-align: middle;\n",
       "    }\n",
       "\n",
       "    .dataframe tbody tr th {\n",
       "        vertical-align: top;\n",
       "    }\n",
       "\n",
       "    .dataframe thead th {\n",
       "        text-align: right;\n",
       "    }\n",
       "</style>\n",
       "<table border=\"1\" class=\"dataframe\">\n",
       "  <thead>\n",
       "    <tr style=\"text-align: right;\">\n",
       "      <th></th>\n",
       "      <th>age</th>\n",
       "      <th>menopause</th>\n",
       "      <th>tumer-size</th>\n",
       "      <th>node-caps</th>\n",
       "      <th>deg-malig</th>\n",
       "      <th>breast</th>\n",
       "      <th>breast-quad</th>\n",
       "      <th>irradiate</th>\n",
       "      <th>class</th>\n",
       "      <th>average_tumor_size(mm)</th>\n",
       "    </tr>\n",
       "  </thead>\n",
       "  <tbody>\n",
       "    <tr>\n",
       "      <th>0</th>\n",
       "      <td>40-49</td>\n",
       "      <td>premeno</td>\n",
       "      <td>15-19</td>\n",
       "      <td>yes</td>\n",
       "      <td>3</td>\n",
       "      <td>right</td>\n",
       "      <td>left_up</td>\n",
       "      <td>no</td>\n",
       "      <td>recurrence-events</td>\n",
       "      <td>17.0</td>\n",
       "    </tr>\n",
       "    <tr>\n",
       "      <th>1</th>\n",
       "      <td>50-59</td>\n",
       "      <td>ge40</td>\n",
       "      <td>15-19</td>\n",
       "      <td>no</td>\n",
       "      <td>1</td>\n",
       "      <td>right</td>\n",
       "      <td>central</td>\n",
       "      <td>no</td>\n",
       "      <td>no-recurrence-events</td>\n",
       "      <td>17.0</td>\n",
       "    </tr>\n",
       "    <tr>\n",
       "      <th>2</th>\n",
       "      <td>50-59</td>\n",
       "      <td>ge40</td>\n",
       "      <td>35-39</td>\n",
       "      <td>no</td>\n",
       "      <td>2</td>\n",
       "      <td>left</td>\n",
       "      <td>left_low</td>\n",
       "      <td>no</td>\n",
       "      <td>recurrence-events</td>\n",
       "      <td>37.0</td>\n",
       "    </tr>\n",
       "    <tr>\n",
       "      <th>3</th>\n",
       "      <td>40-49</td>\n",
       "      <td>premeno</td>\n",
       "      <td>35-39</td>\n",
       "      <td>yes</td>\n",
       "      <td>3</td>\n",
       "      <td>right</td>\n",
       "      <td>left_low</td>\n",
       "      <td>yes</td>\n",
       "      <td>no-recurrence-events</td>\n",
       "      <td>37.0</td>\n",
       "    </tr>\n",
       "    <tr>\n",
       "      <th>4</th>\n",
       "      <td>40-49</td>\n",
       "      <td>premeno</td>\n",
       "      <td>30-34</td>\n",
       "      <td>yes</td>\n",
       "      <td>2</td>\n",
       "      <td>left</td>\n",
       "      <td>right_up</td>\n",
       "      <td>no</td>\n",
       "      <td>recurrence-events</td>\n",
       "      <td>32.0</td>\n",
       "    </tr>\n",
       "    <tr>\n",
       "      <th>...</th>\n",
       "      <td>...</td>\n",
       "      <td>...</td>\n",
       "      <td>...</td>\n",
       "      <td>...</td>\n",
       "      <td>...</td>\n",
       "      <td>...</td>\n",
       "      <td>...</td>\n",
       "      <td>...</td>\n",
       "      <td>...</td>\n",
       "      <td>...</td>\n",
       "    </tr>\n",
       "    <tr>\n",
       "      <th>267</th>\n",
       "      <td>50-59</td>\n",
       "      <td>ge40</td>\n",
       "      <td>30-34</td>\n",
       "      <td>yes</td>\n",
       "      <td>2</td>\n",
       "      <td>left</td>\n",
       "      <td>left_low</td>\n",
       "      <td>no</td>\n",
       "      <td>no-recurrence-events</td>\n",
       "      <td>32.0</td>\n",
       "    </tr>\n",
       "    <tr>\n",
       "      <th>268</th>\n",
       "      <td>50-59</td>\n",
       "      <td>premeno</td>\n",
       "      <td>25-29</td>\n",
       "      <td>yes</td>\n",
       "      <td>2</td>\n",
       "      <td>left</td>\n",
       "      <td>left_low</td>\n",
       "      <td>yes</td>\n",
       "      <td>no-recurrence-events</td>\n",
       "      <td>27.0</td>\n",
       "    </tr>\n",
       "    <tr>\n",
       "      <th>269</th>\n",
       "      <td>30-39</td>\n",
       "      <td>premeno</td>\n",
       "      <td>30-34</td>\n",
       "      <td>yes</td>\n",
       "      <td>2</td>\n",
       "      <td>right</td>\n",
       "      <td>right_up</td>\n",
       "      <td>no</td>\n",
       "      <td>no-recurrence-events</td>\n",
       "      <td>32.0</td>\n",
       "    </tr>\n",
       "    <tr>\n",
       "      <th>270</th>\n",
       "      <td>50-59</td>\n",
       "      <td>premeno</td>\n",
       "      <td>15-19</td>\n",
       "      <td>no</td>\n",
       "      <td>2</td>\n",
       "      <td>right</td>\n",
       "      <td>left_low</td>\n",
       "      <td>no</td>\n",
       "      <td>no-recurrence-events</td>\n",
       "      <td>17.0</td>\n",
       "    </tr>\n",
       "    <tr>\n",
       "      <th>271</th>\n",
       "      <td>50-59</td>\n",
       "      <td>ge40</td>\n",
       "      <td>40-44</td>\n",
       "      <td>no</td>\n",
       "      <td>3</td>\n",
       "      <td>left</td>\n",
       "      <td>right_up</td>\n",
       "      <td>no</td>\n",
       "      <td>no-recurrence-events</td>\n",
       "      <td>42.0</td>\n",
       "    </tr>\n",
       "  </tbody>\n",
       "</table>\n",
       "<p>272 rows × 10 columns</p>\n",
       "</div>"
      ],
      "text/plain": [
       "       age menopause tumer-size node-caps deg-malig breast breast-quad  \\\n",
       "0    40-49   premeno      15-19       yes         3  right     left_up   \n",
       "1    50-59      ge40      15-19        no         1  right     central   \n",
       "2    50-59      ge40      35-39        no         2   left    left_low   \n",
       "3    40-49   premeno      35-39       yes         3  right    left_low   \n",
       "4    40-49   premeno      30-34       yes         2   left    right_up   \n",
       "..     ...       ...        ...       ...       ...    ...         ...   \n",
       "267  50-59      ge40      30-34       yes         2   left    left_low   \n",
       "268  50-59   premeno      25-29       yes         2   left    left_low   \n",
       "269  30-39   premeno      30-34       yes         2  right    right_up   \n",
       "270  50-59   premeno      15-19        no         2  right    left_low   \n",
       "271  50-59      ge40      40-44        no         3   left    right_up   \n",
       "\n",
       "    irradiate                 class  average_tumor_size(mm)  \n",
       "0          no     recurrence-events                    17.0  \n",
       "1          no  no-recurrence-events                    17.0  \n",
       "2          no     recurrence-events                    37.0  \n",
       "3         yes  no-recurrence-events                    37.0  \n",
       "4          no     recurrence-events                    32.0  \n",
       "..        ...                   ...                     ...  \n",
       "267        no  no-recurrence-events                    32.0  \n",
       "268       yes  no-recurrence-events                    27.0  \n",
       "269        no  no-recurrence-events                    32.0  \n",
       "270        no  no-recurrence-events                    17.0  \n",
       "271        no  no-recurrence-events                    42.0  \n",
       "\n",
       "[272 rows x 10 columns]"
      ]
     },
     "execution_count": 154,
     "metadata": {},
     "output_type": "execute_result"
    }
   ],
   "source": [
    "df"
   ]
  },
  {
   "cell_type": "markdown",
   "id": "76848660",
   "metadata": {},
   "source": [
    "## Thus the dataset has been cleaned by converting it into readable form, removing the duplicated records, replacing the null values with mode of the attribute and converting certain attributes into integer and float type"
   ]
  }
 ],
 "metadata": {
  "kernelspec": {
   "display_name": "Python 3 (ipykernel)",
   "language": "python",
   "name": "python3"
  },
  "language_info": {
   "codemirror_mode": {
    "name": "ipython",
    "version": 3
   },
   "file_extension": ".py",
   "mimetype": "text/x-python",
   "name": "python",
   "nbconvert_exporter": "python",
   "pygments_lexer": "ipython3",
   "version": "3.11.3"
  }
 },
 "nbformat": 4,
 "nbformat_minor": 5
}
